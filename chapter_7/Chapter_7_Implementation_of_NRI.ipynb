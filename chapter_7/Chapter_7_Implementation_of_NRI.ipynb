{
  "nbformat": 4,
  "nbformat_minor": 0,
  "metadata": {
    "colab": {
      "provenance": [],
      "gpuType": "T4"
    },
    "kernelspec": {
      "name": "python3",
      "display_name": "Python 3"
    },
    "language_info": {
      "name": "python"
    },
    "accelerator": "GPU"
  },
  "cells": [
    {
      "cell_type": "code",
      "execution_count": 1,
      "metadata": {
        "id": "LBBdBc9ZILPQ"
      },
      "outputs": [],
      "source": [
        "import torch\n",
        "import torch.nn as nn\n",
        "import torch.nn.functional as F\n",
        "import math\n",
        "import glob\n",
        "import numpy as np\n",
        "\n",
        "from torch.autograd import Variable\n",
        "from torch.utils.data.dataset import TensorDataset\n",
        "from torch.utils.data import DataLoader\n",
        "\n"
      ]
    },
    {
      "cell_type": "code",
      "source": [],
      "metadata": {
        "id": "n7T1S4BkgNiL"
      },
      "execution_count": 1,
      "outputs": []
    },
    {
      "cell_type": "code",
      "source": [
        "from google.colab import drive\n",
        "drive.mount('/content/drive')"
      ],
      "metadata": {
        "id": "lg1uRj7qgQAF",
        "colab": {
          "base_uri": "https://localhost:8080/"
        },
        "outputId": "2a7e5e7c-494c-4097-fc1e-4ccb502d195f"
      },
      "execution_count": 2,
      "outputs": [
        {
          "output_type": "stream",
          "name": "stdout",
          "text": [
            "Drive already mounted at /content/drive; to attempt to forcibly remount, call drive.mount(\"/content/drive\", force_remount=True).\n"
          ]
        }
      ]
    },
    {
      "cell_type": "code",
      "source": [
        "\n",
        "!pip install torch_geometric"
      ],
      "metadata": {
        "id": "6i1Vk8x9HN_t",
        "colab": {
          "base_uri": "https://localhost:8080/"
        },
        "outputId": "35a19655-3a73-4bb1-e8cc-ed820035799d"
      },
      "execution_count": 3,
      "outputs": [
        {
          "output_type": "stream",
          "name": "stdout",
          "text": [
            "Collecting torch_geometric\n",
            "  Downloading torch_geometric-2.3.1.tar.gz (661 kB)\n",
            "\u001b[2K     \u001b[90m━━━━━━━━━━━━━━━━━━━━━━━━━━━━━━━━━━━━━━━\u001b[0m \u001b[32m661.6/661.6 kB\u001b[0m \u001b[31m7.8 MB/s\u001b[0m eta \u001b[36m0:00:00\u001b[0m\n",
            "\u001b[?25h  Installing build dependencies ... \u001b[?25l\u001b[?25hdone\n",
            "  Getting requirements to build wheel ... \u001b[?25l\u001b[?25hdone\n",
            "  Preparing metadata (pyproject.toml) ... \u001b[?25l\u001b[?25hdone\n",
            "Requirement already satisfied: tqdm in /usr/local/lib/python3.10/dist-packages (from torch_geometric) (4.66.1)\n",
            "Requirement already satisfied: numpy in /usr/local/lib/python3.10/dist-packages (from torch_geometric) (1.23.5)\n",
            "Requirement already satisfied: scipy in /usr/local/lib/python3.10/dist-packages (from torch_geometric) (1.10.1)\n",
            "Requirement already satisfied: jinja2 in /usr/local/lib/python3.10/dist-packages (from torch_geometric) (3.1.2)\n",
            "Requirement already satisfied: requests in /usr/local/lib/python3.10/dist-packages (from torch_geometric) (2.31.0)\n",
            "Requirement already satisfied: pyparsing in /usr/local/lib/python3.10/dist-packages (from torch_geometric) (3.1.1)\n",
            "Requirement already satisfied: scikit-learn in /usr/local/lib/python3.10/dist-packages (from torch_geometric) (1.2.2)\n",
            "Requirement already satisfied: psutil>=5.8.0 in /usr/local/lib/python3.10/dist-packages (from torch_geometric) (5.9.5)\n",
            "Requirement already satisfied: MarkupSafe>=2.0 in /usr/local/lib/python3.10/dist-packages (from jinja2->torch_geometric) (2.1.3)\n",
            "Requirement already satisfied: charset-normalizer<4,>=2 in /usr/local/lib/python3.10/dist-packages (from requests->torch_geometric) (3.2.0)\n",
            "Requirement already satisfied: idna<4,>=2.5 in /usr/local/lib/python3.10/dist-packages (from requests->torch_geometric) (3.4)\n",
            "Requirement already satisfied: urllib3<3,>=1.21.1 in /usr/local/lib/python3.10/dist-packages (from requests->torch_geometric) (2.0.4)\n",
            "Requirement already satisfied: certifi>=2017.4.17 in /usr/local/lib/python3.10/dist-packages (from requests->torch_geometric) (2023.7.22)\n",
            "Requirement already satisfied: joblib>=1.1.1 in /usr/local/lib/python3.10/dist-packages (from scikit-learn->torch_geometric) (1.3.2)\n",
            "Requirement already satisfied: threadpoolctl>=2.0.0 in /usr/local/lib/python3.10/dist-packages (from scikit-learn->torch_geometric) (3.2.0)\n",
            "Building wheels for collected packages: torch_geometric\n",
            "  Building wheel for torch_geometric (pyproject.toml) ... \u001b[?25l\u001b[?25hdone\n",
            "  Created wheel for torch_geometric: filename=torch_geometric-2.3.1-py3-none-any.whl size=910454 sha256=5332f02a6be311586af6fde62cd5317e2bd716071c697ce0f565e3321a91b1ee\n",
            "  Stored in directory: /root/.cache/pip/wheels/ac/dc/30/e2874821ff308ee67dcd7a66dbde912411e19e35a1addda028\n",
            "Successfully built torch_geometric\n",
            "Installing collected packages: torch_geometric\n",
            "Successfully installed torch_geometric-2.3.1\n"
          ]
        }
      ]
    },
    {
      "cell_type": "code",
      "source": [
        "import numpy as np\n",
        "import torch\n",
        "from torch.utils.data import Dataset\n",
        "\n",
        "\n",
        "# Code from NRI.\n",
        "def normalize(data, data_max, data_min):\n",
        "\treturn (data - data_min) * 2 / (data_max - data_min) - 1\n",
        "\n",
        "\n",
        "def unnormalize(data, data_max, data_min):\n",
        "\treturn (data + 1) * (data_max - data_min) / 2. + data_min\n",
        "\n",
        "\n",
        "def get_edge_inds(num_vars):\n",
        "\tedges = []\n",
        "\tfor i in range(num_vars):\n",
        "\t\tfor j in range(num_vars):\n",
        "\t\t\tif i == j:\n",
        "\t\t\t\tcontinue\n",
        "\t\t\tedges.append([i, j])\n",
        "\treturn edges\n",
        "\n",
        "class CmuMotionData(Dataset):\n",
        "    def __init__(self, name, data_path, mode, data_len=-1, expand_train=False, test_full=False, mask_ind_file=None):\n",
        "        self.name = name\n",
        "        self.data_path = data_path\n",
        "        self.mode = mode\n",
        "        self.train_data_len = data_len\n",
        "        # Get preprocessing stats.\n",
        "        loc_max, loc_min, vel_max, vel_min = self._get_normalize_stats()\n",
        "        self.loc_max = loc_max\n",
        "        self.loc_min = loc_min\n",
        "        self.vel_max = vel_max\n",
        "        self.vel_min = vel_min\n",
        "        self.test_full = test_full\n",
        "\n",
        "        # Load data.\n",
        "        self._load_data()\n",
        "        self.expand_train = expand_train\n",
        "        if self.mode == 'train' and self.expand_train and self.train_data_len > 0:\n",
        "            self.all_inds = []\n",
        "            for ind in range(len(self.feat)):\n",
        "                t_ind = 0\n",
        "                while t_ind < len(self.feat[ind]):\n",
        "                    self.all_inds.append((ind, t_ind))\n",
        "                    t_ind += self.train_data_len\n",
        "        else:\n",
        "            self.expand_train = False\n",
        "\n",
        "    def __getitem__(self, index):\n",
        "        if self.expand_train:\n",
        "            ind, t_ind = self.all_inds[index]\n",
        "            start_ind = np.random.randint(t_ind, t_ind + self.train_data_len)\n",
        "\n",
        "            feat = self.feat[ind][start_ind:start_ind + self.train_data_len]\n",
        "            if len(feat) < self.train_data_len:\n",
        "                feat = self.feat[ind][-self.train_data_len:]\n",
        "            return {'inputs':feat}\n",
        "        else:\n",
        "            inputs = self.feat[index]\n",
        "            size = len(inputs)\n",
        "            if self.mode == 'train' and self.train_data_len > 0 and size > self.train_data_len:\n",
        "                start_ind = np.random.randint(0, size-self.train_data_len)\n",
        "                inputs = inputs[start_ind:start_ind+self.train_data_len]\n",
        "            result = {'inputs': inputs}\n",
        "        return result\n",
        "\n",
        "    def __len__(self, ):\n",
        "        if self.expand_train:\n",
        "            return len(self.all_inds)\n",
        "        else:\n",
        "            return len(self.feat)\n",
        "\n",
        "    def _get_normalize_stats(self,):\n",
        "        train_loc = np.load(self._get_npy_path('loc', 'train'), allow_pickle=True)\n",
        "        train_vel = np.load(self._get_npy_path('vel', 'train'), allow_pickle=True)\n",
        "        try:\n",
        "            train_loc.max()\n",
        "            self.dynamic_len = False\n",
        "        except:\n",
        "            self.dynamic_len = True\n",
        "        if self.dynamic_len:\n",
        "            max_loc = max(x.max() for x in train_loc)\n",
        "            min_loc = min(x.min() for x in train_loc)\n",
        "            max_vel = max(x.max() for x in train_vel)\n",
        "            min_vel = min(x.min() for x in train_vel)\n",
        "            return max_loc, min_loc, max_vel, min_vel\n",
        "        else:\n",
        "            return train_loc.max(), train_loc.min(), train_vel.max(), train_vel.min()\n",
        "\n",
        "    def _load_data(self, ):\n",
        "        #print('***Experiment hack: evaling on training.***')\n",
        "        # Load data\n",
        "        self.loc_feat = np.load(self._get_npy_path('loc', self.mode))#, allow_pickle=True)\n",
        "        self.vel_feat = np.load(self._get_npy_path('vel', self.mode))#, allow_pickle=True)\n",
        "        #self.edge_feat = np.load(self._get_npy_path('edges', self.mode))\n",
        "\n",
        "        # Perform preprocessing.\n",
        "        if self.dynamic_len:\n",
        "            self.loc_feat = [normalize(feat, self.loc_max, self.loc_min) for feat in self.loc_feat]\n",
        "            self.vel_feat = [normalize(feat, self.vel_max, self.vel_min) for feat in self.vel_feat]\n",
        "            self.feat = [np.concatenate([loc_feat, vel_feat], axis=-1) for loc_feat, vel_feat in zip(self.loc_feat, self.vel_feat)]\n",
        "            self.feat = [torch.from_numpy(np.array(feat, dtype=np.float32)) for feat in self.feat]\n",
        "            print(\"FEATURE LEN: \",len(self.feat))\n",
        "        else:\n",
        "            self.loc_feat = normalize(\n",
        "                self.loc_feat, self.loc_max, self.loc_min)\n",
        "            self.vel_feat = normalize(\n",
        "                self.vel_feat, self.vel_max, self.vel_min)\n",
        "\n",
        "            # Reshape [num_sims, num_timesteps, num_agents, num_dims]\n",
        "            #self.loc_feat = np.transpose(self.loc_feat, [0, 1, 3, 2])\n",
        "            #self.vel_feat = np.transpose(self.vel_feat, [0, 1, 3, 2])\n",
        "            self.feat = np.concatenate([self.loc_feat, self.vel_feat], axis=-1)\n",
        "\n",
        "            # Convert to pytorch cuda tensor.\n",
        "            self.feat = torch.from_numpy(\n",
        "                np.array(self.feat, dtype=np.float32))  # .cuda()\n",
        "\n",
        "            # Only extract the first 49 frame if testing.\n",
        "            if self.mode == 'test' and not self.test_full:\n",
        "                self.feat = self.feat[:, :49]\n",
        "\n",
        "    def _get_npy_path(self, feat, mode):\n",
        "        return '%s/%s_%s_%s.npy' % (self.data_path,\n",
        "                                    feat,\n",
        "                                    mode,\n",
        "                                    self.name)\n"
      ],
      "metadata": {
        "id": "OAaFr46UvLdN"
      },
      "execution_count": 4,
      "outputs": []
    },
    {
      "cell_type": "code",
      "source": [],
      "metadata": {
        "id": "Z8yQzALV3GNP"
      },
      "execution_count": 4,
      "outputs": []
    },
    {
      "cell_type": "code",
      "source": [],
      "metadata": {
        "id": "_lBpeKAP3wWb"
      },
      "execution_count": 4,
      "outputs": []
    },
    {
      "cell_type": "code",
      "source": [],
      "metadata": {
        "id": "UbW4QsJt3yiP"
      },
      "execution_count": 4,
      "outputs": []
    },
    {
      "cell_type": "code",
      "source": [
        "DATA_PATH='drive/MyDrive/35'\n",
        "\n",
        "files = glob.glob(f\"{DATA_PATH}/*.npy\")\n",
        "files.sort()\n",
        "files\n",
        "\n",
        "edges = np.load(f'{DATA_PATH}/edges.npy')\n",
        "\n",
        "\n",
        "# Create an adjacency matrix of zeros\n",
        "num_nodes = edges.max() + 1  # Assuming nodes are 0-indexed\n",
        "adj = np.zeros((num_nodes, num_nodes))\n",
        "\n",
        "# Fill in the entries in the adjacency matrix corresponding to edges\n",
        "for i, j in edges:\n",
        "    adj[i, j] = 1\n"
      ],
      "metadata": {
        "id": "FdpDZJSqKNtJ"
      },
      "execution_count": 5,
      "outputs": []
    },
    {
      "cell_type": "code",
      "source": [
        "\n",
        "train_data = CmuMotionData('cmu', DATA_PATH, 'train', )\n",
        "val_data = CmuMotionData('cmu', DATA_PATH, 'valid', )\n"
      ],
      "metadata": {
        "id": "8X6mKEW3vhxk"
      },
      "execution_count": 6,
      "outputs": []
    },
    {
      "cell_type": "code",
      "source": [
        "import random\n",
        "def seed(seed_val):\n",
        "    np.random.seed(seed_val)\n",
        "    torch.manual_seed(seed_val)\n",
        "    random.seed(seed_val)\n",
        "    if torch.cuda.is_available():\n",
        "        torch.cuda.manual_seed_all(seed_val)\n",
        "\n"
      ],
      "metadata": {
        "id": "Hdfo_1uisW4j"
      },
      "execution_count": 7,
      "outputs": []
    },
    {
      "cell_type": "code",
      "source": [
        "\n",
        "def encode_onehot(labels):\n",
        "    classes = set(labels)\n",
        "    classes_dict = {c: np.identity(len(classes))[i, :] for i, c in enumerate(classes)}\n",
        "    labels_onehot = np.array(list(map(classes_dict.get, labels)), dtype=np.int32)\n",
        "    return labels_onehot\n",
        "\n",
        "\n",
        "class RefNRIMLP(nn.Module):\n",
        "    \"\"\"Two-layer fully-connected ELU net with batch norm.\"\"\"\n",
        "\n",
        "    def __init__(self, n_in, n_hid, n_out, do_prob=0., no_bn=False):\n",
        "        super(RefNRIMLP, self).__init__()\n",
        "        self.model = nn.Sequential(\n",
        "            nn.Linear(n_in, n_hid),\n",
        "            nn.ELU(inplace=True),\n",
        "            nn.Dropout(do_prob),\n",
        "            nn.Linear(n_hid, n_out),\n",
        "            nn.ELU(inplace=True)\n",
        "        )\n",
        "        if no_bn:\n",
        "            self.bn = None\n",
        "        else:\n",
        "            self.bn = nn.BatchNorm1d(n_out)\n",
        "\n",
        "    def batch_norm(self, inputs):\n",
        "        orig_shape = inputs.shape\n",
        "        x = inputs.view(-1, inputs.size(-1))\n",
        "        x = self.bn(x)\n",
        "        return x.view(orig_shape)\n",
        "\n",
        "    def forward(self, inputs):\n",
        "        # Input shape: [num_sims, num_things, num_features]\n",
        "        x = self.model(inputs)\n",
        "        if self.bn is not None:\n",
        "            return self.batch_norm(x)\n",
        "        else:\n",
        "            return x\n"
      ],
      "metadata": {
        "id": "sQRXA-ODs2d7"
      },
      "execution_count": 8,
      "outputs": []
    },
    {
      "cell_type": "code",
      "source": [
        "import torch\n",
        "import torch.nn as nn\n",
        "import torch.nn.functional as F\n",
        "\n",
        "class BaseNRI(nn.Module):\n",
        "    def __init__(self, num_vars, encoder, decoder,\n",
        "                 num_edge_types=2,\n",
        "                 no_edge_prior=None,\n",
        "                 gumbel_temp=0.5,\n",
        "                 prior_variance=5e-5):\n",
        "        super(BaseNRI, self).__init__()\n",
        "        self.num_vars = num_vars\n",
        "        self.decoder = decoder\n",
        "        self.encoder = encoder\n",
        "        self.num_edge_types = num_edge_types\n",
        "        self.gumbel_temp = gumbel_temp\n",
        "        self.prior_variance = prior_variance\n",
        "\n",
        "        self.log_prior = self._initialize_log_prior(no_edge_prior)\n",
        "\n",
        "    def _initialize_log_prior(self, no_edge_prior):\n",
        "        prior = torch.zeros(self.num_edge_types)\n",
        "        prior.fill_(1.0 / self.num_edge_types)\n",
        "        log_prior = torch.log(prior).unsqueeze(0).unsqueeze(0)\n",
        "        return log_prior.cuda(non_blocking=True)\n",
        "\n",
        "    def calculate_loss(self, inputs,\n",
        "                       is_train=False,\n",
        "                       teacher_forcing=True,\n",
        "                       return_edges=False,\n",
        "                       return_logits=False):\n",
        "\n",
        "        encoder_results = self.encoder(inputs)\n",
        "        logits = encoder_results['logits']\n",
        "        hard_sample = not is_train\n",
        "        edges = F.gumbel_softmax(logits.view(-1, self.num_edge_types),\n",
        "                                 tau=self.gumbel_temp,\n",
        "                                 hard=hard_sample).view(logits.shape)\n",
        "\n",
        "        output = self.decoder(inputs[:, :-1], edges)\n",
        "\n",
        "        target = inputs[:, 1:] if len(inputs.shape) == 3 else inputs[:, 1:, :, :]\n",
        "\n",
        "        # Negative log likelihood (NLL) for Gaussian distribution\n",
        "        loss_nll = F.mse_loss(output, target) / (2 * self.prior_variance)\n",
        "\n",
        "        # KL divergence with a uniform categorical distribution\n",
        "        probs = F.softmax(logits, dim=-1)\n",
        "        log_probs = torch.log(probs + 1e-16)\n",
        "        loss_kl = (probs * (log_probs - torch.log(torch.tensor(1.0 / self.num_edge_types)))).sum(-1).mean()\n",
        "\n",
        "        loss = loss_nll + loss_kl\n",
        "\n",
        "        return loss, loss_nll, loss_kl, logits, output\n",
        "\n",
        "    def predict_future(self, inputs, prediction_steps, return_edges=False, return_everything=False):\n",
        "        encoder_dict = self.encoder(inputs)\n",
        "        logits = encoder_dict['logits']\n",
        "        edges = nn.functional.gumbel_softmax(logits.view(-1, self.num_edge_types), tau=self.gumbel_temp, hard=True).view(logits.shape)\n",
        "        tmp_predictions, decoder_state = self.decoder(inputs[:, :-1], edges, return_state=True)\n",
        "        predictions = self.decoder(inputs[:, -1].unsqueeze(1), edges, prediction_steps=prediction_steps, teacher_forcing=False, state=decoder_state)\n",
        "        if return_everything:\n",
        "            predictions = torch.cat([tmp_predictions, predictions], dim=1)\n",
        "        return (predictions, edges) if return_edges else predictions\n"
      ],
      "metadata": {
        "id": "CaQvu7Slstrv"
      },
      "execution_count": 9,
      "outputs": []
    },
    {
      "cell_type": "code",
      "source": [],
      "metadata": {
        "id": "1915a1Ybyarp"
      },
      "execution_count": 9,
      "outputs": []
    },
    {
      "cell_type": "code",
      "source": [
        "class BaseEncoder(nn.Module):\n",
        "    def __init__(self, num_vars):\n",
        "        super(BaseEncoder, self).__init__()\n",
        "        self.num_vars = num_vars\n",
        "        edges = torch.ones(num_vars) - torch.eye(num_vars)\n",
        "        self.send_edges, self.recv_edges = torch.where(edges)\n",
        "\n",
        "        # Encode one-hot representation\n",
        "        one_hot_recv = torch.nn.functional.one_hot(self.recv_edges, num_classes=num_vars)\n",
        "        self.edge2node_mat = nn.Parameter(one_hot_recv.float().T, requires_grad=False)\n",
        "\n",
        "    def node2edge(self, node_embeddings):\n",
        "        send_embed = node_embeddings[:, self.send_edges]\n",
        "        recv_embed = node_embeddings[:, self.recv_edges]\n",
        "        return torch.cat([send_embed, recv_embed], dim=2)\n",
        "\n",
        "    def edge2node(self, edge_embeddings):\n",
        "        incoming = torch.matmul(self.edge2node_mat, edge_embeddings)\n",
        "        # if self.dynamic:\n",
        "        #     old_shape = edge_embeddings.shape\n",
        "        #     incoming = incoming.view(old_shape[0], -1, old_shape[2], old_shape[3])\n",
        "        return incoming / (self.num_vars - 1)\n",
        "\n",
        "\n",
        "class RefMLPEncoder(BaseEncoder):\n",
        "    def __init__(self, num_vars=31, input_size=6, input_time_steps=50, encoder_mlp_hidden=256, encoder_hidden=256, num_edge_types=2, encoder_dropout=0.):\n",
        "        super(RefMLPEncoder, self).__init__(num_vars)\n",
        "        inp_size = input_size * input_time_steps\n",
        "        hidden_size = encoder_hidden\n",
        "        num_layers = 3\n",
        "        self.input_time_steps = input_time_steps\n",
        "\n",
        "        # Define MLP layers\n",
        "        self.mlp1 = RefNRIMLP(inp_size, hidden_size, hidden_size, encoder_dropout)\n",
        "        self.mlp2 = RefNRIMLP(hidden_size * 2, hidden_size, hidden_size, encoder_dropout)\n",
        "        self.mlp3 = RefNRIMLP(hidden_size, hidden_size, hidden_size, encoder_dropout)\n",
        "        mlp4_inp_size = hidden_size * 2\n",
        "        self.mlp4 = RefNRIMLP(mlp4_inp_size, hidden_size, hidden_size, encoder_dropout)\n",
        "\n",
        "        # Define final fully connected layer\n",
        "        if num_layers == 1:\n",
        "            self.fc_out = nn.Linear(hidden_size, num_edge_types)\n",
        "        else:\n",
        "            layers = [nn.Linear(hidden_size, encoder_mlp_hidden), nn.ELU(inplace=True)]\n",
        "            layers += [nn.Linear(encoder_mlp_hidden, encoder_mlp_hidden), nn.ELU(inplace=True)] * (num_layers - 2)\n",
        "            layers.append(nn.Linear(encoder_mlp_hidden, num_edge_types))\n",
        "            self.fc_out = nn.Sequential(*layers)\n",
        "\n",
        "        self.init_weights()\n",
        "\n",
        "        print(\"Using MLP encoder.\")\n",
        "\n",
        "    def init_weights(self):\n",
        "        for m in self.modules():\n",
        "            if isinstance(m, nn.Linear):\n",
        "                nn.init.xavier_normal_(m.weight.data)\n",
        "                m.bias.data.fill_(0.1)\n",
        "\n",
        "    def forward(self, inputs, return_state=False):\n",
        "\n",
        "        if inputs.size(1) > self.input_time_steps:\n",
        "            inputs = inputs[:, -self.input_time_steps:]\n",
        "        elif inputs.size(1) < self.input_time_steps:\n",
        "            begin_inp = inputs[:, 0:1].expand(-1, self.input_time_steps-inputs.size(1), -1, -1)\n",
        "            inputs = torch.cat([begin_inp, inputs], dim=1)\n",
        "\n",
        "        x = inputs.transpose(1, 2).contiguous().view(inputs.size(0), inputs.size(2), -1)\n",
        "        # New shape: [num_sims, num_atoms, num_timesteps*num_dims]\n",
        "        x = self.mlp1(x)  # 2-layer ELU net per node\n",
        "\n",
        "        x = self.node2edge(x)\n",
        "        x = self.mlp2(x)\n",
        "\n",
        "        x = self.edge2node(x)\n",
        "        x = self.mlp3(x)\n",
        "\n",
        "        x = self.node2edge(x)\n",
        "        x = self.mlp4(x)\n",
        "        result =  self.fc_out(x)\n",
        "        result_dict = {\n",
        "            'logits': result,\n",
        "            'state': inputs,\n",
        "        }\n",
        "        return result_dict\n"
      ],
      "metadata": {
        "id": "bsbsdqlUVSu6"
      },
      "execution_count": 10,
      "outputs": []
    },
    {
      "cell_type": "code",
      "source": [
        "class CustomGRU(nn.Module):\n",
        "    def __init__(self,input_size, n_hid,num_vars=31):\n",
        "        super(CustomGRU, self).__init__()\n",
        "        self.num_vars = num_vars\n",
        "        self.hidden_r = nn.Linear(n_hid, n_hid, bias=False)\n",
        "        self.hidden_i = nn.Linear(n_hid, n_hid, bias=False)\n",
        "        self.hidden_h = nn.Linear(n_hid, n_hid, bias=False)\n",
        "\n",
        "        self.input_r = nn.Linear(input_size, n_hid, bias=True)\n",
        "        self.input_i = nn.Linear(input_size, n_hid, bias=True)\n",
        "        self.input_n = nn.Linear(input_size, n_hid, bias=True)\n",
        "\n",
        "    def forward(self, inputs, agg_msgs, hidden):\n",
        "        inp_r = self.input_r(inputs).view(inputs.size(0), self.num_vars, -1)\n",
        "        inp_i = self.input_i(inputs).view(inputs.size(0), self.num_vars, -1)\n",
        "        inp_n = self.input_n(inputs).view(inputs.size(0), self.num_vars, -1)\n",
        "\n",
        "        r = torch.sigmoid(inp_r + self.hidden_r(agg_msgs))\n",
        "        i = torch.sigmoid(inp_i + self.hidden_i(agg_msgs))\n",
        "        n = torch.tanh(inp_n + r*self.hidden_h(agg_msgs))\n",
        "        hidden = (1 - i)*n + i*hidden\n",
        "\n",
        "        return hidden"
      ],
      "metadata": {
        "id": "-tIG1_vtohpk"
      },
      "execution_count": 11,
      "outputs": []
    },
    {
      "cell_type": "code",
      "source": [
        "class GraphRNNDecoder(nn.Module):\n",
        "    def __init__(self, num_vars=31, input_size=6, decoder_dropout=0., decoder_hidden=64, num_edge_types=2, skip_first=True):\n",
        "        super(GraphRNNDecoder, self).__init__()\n",
        "        self.num_vars = num_vars\n",
        "        self.msg_out_shape = decoder_hidden\n",
        "        self.skip_first_edge_type = skip_first\n",
        "        self.dropout_prob = decoder_dropout\n",
        "        self.edge_types = num_edge_types\n",
        "        # Edge-related definitions\n",
        "        self.msg_fc1 = nn.ModuleList([nn.Linear(2 * decoder_hidden, decoder_hidden) for _ in range(self.edge_types)])\n",
        "        self.msg_fc2 = nn.ModuleList([nn.Linear(decoder_hidden, decoder_hidden) for _ in range(self.edge_types)])\n",
        "\n",
        "        self.custom_gru = CustomGRU(input_size, decoder_hidden)\n",
        "\n",
        "        self.out_fc1 = nn.Linear(decoder_hidden, decoder_hidden)\n",
        "        self.out_fc2 = nn.Linear(decoder_hidden, decoder_hidden)\n",
        "        self.out_fc3 = nn.Linear(decoder_hidden, input_size)\n",
        "\n",
        "        self.msg_out_shape = decoder_hidden\n",
        "        self.skip_first_edge_type = skip_first\n",
        "\n",
        "        print('Using learned recurrent interaction net decoder.')\n",
        "\n",
        "        self.dropout_prob = decoder_dropout\n",
        "\n",
        "        self.num_vars = num_vars\n",
        "        edges = np.ones(num_vars) - np.eye(num_vars)\n",
        "        self.send_edges = np.where(edges)[0]\n",
        "        self.recv_edges = np.where(edges)[1]\n",
        "        self.edge2node_mat = torch.FloatTensor(encode_onehot(self.recv_edges))\n",
        "        self.edge2node_mat = self.edge2node_mat.cuda(non_blocking=True)\n",
        "\n",
        "    def single_step_forward(self, inputs, rel_type, hidden):\n",
        "        # Inputs: [batch, num_atoms, num_dims]\n",
        "        # Hidden: [batch, num_atoms, msg_out]\n",
        "        # rel_type: [batch_size, num_atoms*(num_atoms-1), num_edge_types]\n",
        "\n",
        "        # node2edge\n",
        "        receivers = hidden[:, self.recv_edges, :]\n",
        "        senders = hidden[:, self.send_edges, :]\n",
        "\n",
        "        # pre_msg: [batch, num_edges, 2*msg_out]\n",
        "        pre_msg = torch.cat([receivers, senders], dim=-1)\n",
        "\n",
        "        all_msgs = torch.zeros(pre_msg.size(0), pre_msg.size(1), self.msg_out_shape, device=inputs.device)\n",
        "\n",
        "        start_idx = 1 if self.skip_first_edge_type else 0\n",
        "        norm = float(len(self.msg_fc2) - start_idx)\n",
        "\n",
        "        # Run separate MLP for every edge type\n",
        "        for i in range(start_idx, len(self.msg_fc2)):\n",
        "            msg = torch.tanh(self.msg_fc1[i](pre_msg))\n",
        "            msg = F.dropout(msg, p=self.dropout_prob)\n",
        "            msg = torch.tanh(self.msg_fc2[i](msg))\n",
        "            msg = msg * rel_type[:, :, i:i+1]\n",
        "            all_msgs += msg / norm\n",
        "\n",
        "        # This step sums all of the messages per node\n",
        "        agg_msgs = all_msgs.transpose(-2, -1).matmul(self.edge2node_mat).transpose(-2, -1) / (self.num_vars - 1)\n",
        "\n",
        "        # GRU-style gated aggregation\n",
        "        hidden = self.custom_gru(inputs, agg_msgs, hidden)\n",
        "\n",
        "        # Output MLP\n",
        "        pred = F.dropout(F.relu(self.out_fc1(hidden)), p=self.dropout_prob)\n",
        "        pred = F.dropout(F.relu(self.out_fc2(pred)), p=self.dropout_prob)\n",
        "        pred = self.out_fc3(pred)\n",
        "\n",
        "        pred = inputs + pred\n",
        "\n",
        "        return pred, hidden\n",
        "\n",
        "    def forward(self, inputs, sampled_edges,\n",
        "                teacher_forcing=False,\n",
        "                return_state=False,\n",
        "                prediction_steps=-1,\n",
        "                state=None):\n",
        "\n",
        "        batch_size, time_steps, num_vars, num_feats = inputs.size()\n",
        "        pred_steps = prediction_steps if prediction_steps > 0 else time_steps\n",
        "\n",
        "        if len(sampled_edges.shape) == 3:\n",
        "            sampled_edges = sampled_edges.unsqueeze(1).expand(batch_size, pred_steps, -1, -1)\n",
        "\n",
        "        if state is None:\n",
        "            hidden = torch.zeros(batch_size,\n",
        "                               num_vars,\n",
        "                               self.msg_out_shape,\n",
        "                               device=inputs.device)\n",
        "        else:\n",
        "            hidden = state\n",
        "        teacher_forcing_steps = time_steps\n",
        "\n",
        "        pred_all = []\n",
        "        for step in range(pred_steps):\n",
        "            if step == 0 or (teacher_forcing and step < teacher_forcing_steps):\n",
        "                ins = inputs[:, step, :]\n",
        "            else:\n",
        "                ins = pred_all[-1]\n",
        "\n",
        "            pred, hidden = self.single_step_forward(ins, sampled_edges[:, step, :], hidden)\n",
        "            pred_all.append(pred)\n",
        "\n",
        "        preds = torch.stack(pred_all, dim=1)\n",
        "\n",
        "        return (preds, hidden) if return_state else preds\n"
      ],
      "metadata": {
        "id": "XeMqduheyWPk"
      },
      "execution_count": 12,
      "outputs": []
    },
    {
      "cell_type": "code",
      "source": [],
      "metadata": {
        "id": "uD9lvJD_Ribe"
      },
      "execution_count": 12,
      "outputs": []
    },
    {
      "cell_type": "code",
      "source": [
        "num_vars = 31\n",
        "input_size = 6\n",
        "hidden_size = 64\n",
        "num_edge_types = 2\n",
        "# Build Encoder\n",
        "encoder = RefMLPEncoder()\n",
        "print(\"ENCODER: \",encoder)\n",
        "\n",
        "# # Build Decoder\n",
        "decoder = GraphRNNDecoder()#num_vars, input_size, hidden_size, num_edge_types)\n",
        "print(\"DECODER: \",decoder)\n",
        "\n",
        "model = BaseNRI(num_vars, encoder, decoder)\n",
        "model = model.cuda()\n"
      ],
      "metadata": {
        "id": "fo5Bclp8yGU0",
        "colab": {
          "base_uri": "https://localhost:8080/"
        },
        "outputId": "d370483e-0d55-430b-fe80-047a3c9ba139"
      },
      "execution_count": 13,
      "outputs": [
        {
          "output_type": "stream",
          "name": "stdout",
          "text": [
            "Using MLP encoder.\n",
            "ENCODER:  RefMLPEncoder(\n",
            "  (mlp1): RefNRIMLP(\n",
            "    (model): Sequential(\n",
            "      (0): Linear(in_features=300, out_features=256, bias=True)\n",
            "      (1): ELU(alpha=1.0, inplace=True)\n",
            "      (2): Dropout(p=0.0, inplace=False)\n",
            "      (3): Linear(in_features=256, out_features=256, bias=True)\n",
            "      (4): ELU(alpha=1.0, inplace=True)\n",
            "    )\n",
            "    (bn): BatchNorm1d(256, eps=1e-05, momentum=0.1, affine=True, track_running_stats=True)\n",
            "  )\n",
            "  (mlp2): RefNRIMLP(\n",
            "    (model): Sequential(\n",
            "      (0): Linear(in_features=512, out_features=256, bias=True)\n",
            "      (1): ELU(alpha=1.0, inplace=True)\n",
            "      (2): Dropout(p=0.0, inplace=False)\n",
            "      (3): Linear(in_features=256, out_features=256, bias=True)\n",
            "      (4): ELU(alpha=1.0, inplace=True)\n",
            "    )\n",
            "    (bn): BatchNorm1d(256, eps=1e-05, momentum=0.1, affine=True, track_running_stats=True)\n",
            "  )\n",
            "  (mlp3): RefNRIMLP(\n",
            "    (model): Sequential(\n",
            "      (0): Linear(in_features=256, out_features=256, bias=True)\n",
            "      (1): ELU(alpha=1.0, inplace=True)\n",
            "      (2): Dropout(p=0.0, inplace=False)\n",
            "      (3): Linear(in_features=256, out_features=256, bias=True)\n",
            "      (4): ELU(alpha=1.0, inplace=True)\n",
            "    )\n",
            "    (bn): BatchNorm1d(256, eps=1e-05, momentum=0.1, affine=True, track_running_stats=True)\n",
            "  )\n",
            "  (mlp4): RefNRIMLP(\n",
            "    (model): Sequential(\n",
            "      (0): Linear(in_features=512, out_features=256, bias=True)\n",
            "      (1): ELU(alpha=1.0, inplace=True)\n",
            "      (2): Dropout(p=0.0, inplace=False)\n",
            "      (3): Linear(in_features=256, out_features=256, bias=True)\n",
            "      (4): ELU(alpha=1.0, inplace=True)\n",
            "    )\n",
            "    (bn): BatchNorm1d(256, eps=1e-05, momentum=0.1, affine=True, track_running_stats=True)\n",
            "  )\n",
            "  (fc_out): Sequential(\n",
            "    (0): Linear(in_features=256, out_features=256, bias=True)\n",
            "    (1): ELU(alpha=1.0, inplace=True)\n",
            "    (2): Linear(in_features=256, out_features=256, bias=True)\n",
            "    (3): ELU(alpha=1.0, inplace=True)\n",
            "    (4): Linear(in_features=256, out_features=2, bias=True)\n",
            "  )\n",
            ")\n",
            "Using learned recurrent interaction net decoder.\n",
            "DECODER:  GraphRNNDecoder(\n",
            "  (msg_fc1): ModuleList(\n",
            "    (0-1): 2 x Linear(in_features=128, out_features=64, bias=True)\n",
            "  )\n",
            "  (msg_fc2): ModuleList(\n",
            "    (0-1): 2 x Linear(in_features=64, out_features=64, bias=True)\n",
            "  )\n",
            "  (custom_gru): CustomGRU(\n",
            "    (hidden_r): Linear(in_features=64, out_features=64, bias=False)\n",
            "    (hidden_i): Linear(in_features=64, out_features=64, bias=False)\n",
            "    (hidden_h): Linear(in_features=64, out_features=64, bias=False)\n",
            "    (input_r): Linear(in_features=6, out_features=64, bias=True)\n",
            "    (input_i): Linear(in_features=6, out_features=64, bias=True)\n",
            "    (input_n): Linear(in_features=6, out_features=64, bias=True)\n",
            "  )\n",
            "  (out_fc1): Linear(in_features=64, out_features=64, bias=True)\n",
            "  (out_fc2): Linear(in_features=64, out_features=64, bias=True)\n",
            "  (out_fc3): Linear(in_features=64, out_features=6, bias=True)\n",
            ")\n"
          ]
        }
      ]
    },
    {
      "cell_type": "code",
      "source": [
        "gpu = True\n",
        "batch_size = 8\n",
        "val_batch_size = batch_size\n",
        "accumulate_steps = 1\n",
        "training_scheduler = None\n",
        "num_epochs = 100\n",
        "val_interval = 5\n",
        "val_start = 0\n",
        "normalize_nll = True#False\n",
        "normalize_kl = True#False\n",
        "tune_on_nll = True\n",
        "verbose = False\n",
        "continue_training = False\n",
        "train_data_loader = DataLoader(train_data, batch_size=batch_size, shuffle=True, drop_last=True)\n",
        "val_data_loader = DataLoader(val_data, batch_size=val_batch_size)\n",
        "lr = 5e-4\n",
        "wd = 0.\n",
        "mom = 0.\n"
      ],
      "metadata": {
        "id": "yikavfym33za"
      },
      "execution_count": 14,
      "outputs": []
    },
    {
      "cell_type": "markdown",
      "source": [],
      "metadata": {
        "id": "FL210IZJuCTg"
      }
    },
    {
      "cell_type": "code",
      "source": [
        "model_params = [param for param in model.parameters() if param.requires_grad]\n",
        "opt = torch.optim.Adam(model_params, lr=lr, weight_decay=wd)\n"
      ],
      "metadata": {
        "id": "2Mhed1e_xvcE"
      },
      "execution_count": 15,
      "outputs": []
    },
    {
      "cell_type": "code",
      "source": [
        "start_epoch = 1\n",
        "best_val_epoch = -1\n",
        "best_val_result = 10000000\n"
      ],
      "metadata": {
        "id": "15c5G5SyyEy4"
      },
      "execution_count": 16,
      "outputs": []
    },
    {
      "cell_type": "code",
      "source": [
        "lr_decay_steps=500\n",
        "lr_decay_factor=0.5\n",
        "training_scheduler = torch.optim.lr_scheduler.StepLR(opt,\n",
        "                                                     lr_decay_steps,\n",
        "                                                     lr_decay_factor)\n",
        "end = start = 0\n",
        "seed(1)\n"
      ],
      "metadata": {
        "id": "bFVsKPaYkyvu"
      },
      "execution_count": 17,
      "outputs": []
    },
    {
      "cell_type": "code",
      "source": [
        "from tqdm import tqdm\n",
        "\n",
        "\n",
        "# Define the tqdm object\n",
        "pbar = tqdm(range(start_epoch, num_epochs + 1), desc='Epochs')\n",
        "\n",
        "for epoch in pbar:\n",
        "    model.train()\n",
        "    model.train_percent = epoch / num_epochs\n",
        "    total_training_loss = 0\n",
        "    for batch in train_data_loader:\n",
        "        inputs = batch['inputs'].cuda(non_blocking=True) if gpu else batch['inputs']\n",
        "        loss, _, _, _, _ = model.calculate_loss(inputs, is_train=True, return_logits=True)\n",
        "        loss.backward()\n",
        "        opt.step() # Updating the weights\n",
        "        opt.zero_grad() # Zeroing the gradients for the next batch\n",
        "        total_training_loss += loss.item()\n",
        "\n",
        "    if training_scheduler is not None:\n",
        "        training_scheduler.step()\n",
        "\n",
        "    total_nll, total_kl = 0, 0\n",
        "    for batch in val_data_loader:\n",
        "        inputs = batch['inputs'].cuda(non_blocking=True) if gpu else batch['inputs']\n",
        "        _, loss_nll, loss_kl, _, _ = model.calculate_loss(inputs, is_train=False, teacher_forcing=True, return_logits=True)\n",
        "        total_kl += loss_kl.sum().item()\n",
        "        total_nll += loss_nll.sum().item()\n",
        "\n",
        "    total_kl /= len(val_data)\n",
        "    total_nll /= len(val_data)\n",
        "    total_loss = total_kl + total_nll\n",
        "    tuning_loss = total_nll if tune_on_nll else total_loss\n",
        "\n",
        "    if tuning_loss < best_val_result:\n",
        "        best_val_epoch, best_val_result = epoch, tuning_loss\n",
        "\n",
        "    pbar.set_postfix({'Best Training Loss': total_training_loss, 'Best Validation Loss': best_val_result})\n"
      ],
      "metadata": {
        "id": "D1KBnXuclJ1P",
        "colab": {
          "base_uri": "https://localhost:8080/"
        },
        "outputId": "ddce5e0f-af29-480e-eabb-633dcf71c2e3"
      },
      "execution_count": 18,
      "outputs": [
        {
          "output_type": "stream",
          "name": "stderr",
          "text": [
            "Epochs: 100%|██████████| 100/100 [04:44<00:00,  2.84s/it, Best Training Loss=90.1, Best Validation Loss=1.08]\n"
          ]
        }
      ]
    },
    {
      "cell_type": "code",
      "source": [
        "\n",
        "\n",
        "def eval_forward_prediction(model, dataset, burn_in_steps, forward_pred_steps, gpu=True, batch_size=8, return_total_errors=False):\n",
        "    dataset.return_edges = False\n",
        "\n",
        "    data_loader = DataLoader(dataset, batch_size=batch_size, pin_memory=gpu)\n",
        "    model.eval()\n",
        "    total_se = 0\n",
        "    batch_count = 0\n",
        "    all_errors = []\n",
        "    for batch_ind, batch in enumerate(data_loader):\n",
        "        inputs = batch['inputs']\n",
        "        with torch.no_grad():\n",
        "            model_inputs = inputs[:, :burn_in_steps]\n",
        "            gt_predictions = inputs[:, burn_in_steps:burn_in_steps+forward_pred_steps]\n",
        "            if gpu:\n",
        "                model_inputs = model_inputs.cuda(non_blocking=True)\n",
        "            model_preds = model.predict_future(model_inputs, forward_pred_steps).cpu()\n",
        "            batch_count += 1\n",
        "            if return_total_errors:\n",
        "                all_errors.append(F.mse_loss(model_preds, gt_predictions, reduction='none').view(model_preds.size(0), model_preds.size(1), -1).mean(dim=-1))\n",
        "            else:\n",
        "                total_se += F.mse_loss(model_preds, gt_predictions, reduction='none').view(model_preds.size(0), model_preds.size(1), -1).mean(dim=-1).sum(dim=0)\n",
        "    if return_total_errors:\n",
        "        return torch.cat(all_errors, dim=0)\n",
        "    else:\n",
        "        return total_se / len(dataset)"
      ],
      "metadata": {
        "id": "TxhmYD7vszrm"
      },
      "execution_count": 19,
      "outputs": []
    },
    {
      "cell_type": "code",
      "source": [
        "test_data = CmuMotionData('cmu', DATA_PATH, 'test', test_full=True)\n",
        "mode='eval'\n",
        "if mode == 'eval':\n",
        "    test_cumulative_mse = eval_forward_prediction(model, test_data, 50, 48)\n",
        "    # path = os.path.join(args.working_dir, args.error_out_name)\n",
        "    # np.save(path, test_cumulative_mse.cpu().numpy())\n",
        "    test_mse_1 = test_cumulative_mse[0].item()\n",
        "    test_mse_20 = test_cumulative_mse[19].item()\n",
        "    test_mse_40 = test_cumulative_mse[39].item()\n",
        "    print(\"FORWARD PRED RESULTS:\")\n",
        "    print(\"\\t1 STEP:  \",test_mse_1)\n",
        "    print(\"\\t20 STEP: \", test_mse_20)\n",
        "    print(\"\\t40 STEP: \",test_mse_40)\n"
      ],
      "metadata": {
        "id": "BhJmzHpvlxAc",
        "colab": {
          "base_uri": "https://localhost:8080/"
        },
        "outputId": "729ca4d8-ef12-499f-cff3-38dfaf7f4624"
      },
      "execution_count": 20,
      "outputs": [
        {
          "output_type": "stream",
          "name": "stdout",
          "text": [
            "FORWARD PRED RESULTS:\n",
            "\t1 STEP:   8.486501610605046e-05\n",
            "\t20 STEP:  0.0006076358258724213\n",
            "\t40 STEP:  0.0011646547354757786\n"
          ]
        }
      ]
    },
    {
      "cell_type": "code",
      "source": [
        "import matplotlib.pyplot as plt\n",
        "plt.semilogy(test_cumulative_mse)\n",
        "plt.xlabel('Timesteps')\n",
        "plt.ylabel('MSE')"
      ],
      "metadata": {
        "id": "Fc99MYVssgkM",
        "colab": {
          "base_uri": "https://localhost:8080/",
          "height": 467
        },
        "outputId": "e85648ef-f2fb-4d23-ef62-9eb923ad41d0"
      },
      "execution_count": 21,
      "outputs": [
        {
          "output_type": "execute_result",
          "data": {
            "text/plain": [
              "Text(0, 0.5, 'MSE')"
            ]
          },
          "metadata": {},
          "execution_count": 21
        },
        {
          "output_type": "display_data",
          "data": {
            "text/plain": [
              "<Figure size 640x480 with 1 Axes>"
            ],
            "image/png": "[encoded data removed]"
          },
          "metadata": {}
        }
      ]
    },
    {
      "cell_type": "code",
      "source": [],
      "metadata": {
        "id": "fKpE3IFDtHvs"
      },
      "execution_count": 21,
      "outputs": []
    }
  ]
}