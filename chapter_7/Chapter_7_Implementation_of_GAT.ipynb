{
  "cells": [
    {
      "cell_type": "code",
      "execution_count": null,
      "metadata": {
        "id": "L0kHUWY27JNv",
        "colab": {
          "base_uri": "https://localhost:8080/"
        },
        "outputId": "3ed1c5d1-cc62-4d24-fbf8-247565a2715c"
      },
      "outputs": [
        {
          "output_type": "stream",
          "name": "stdout",
          "text": [
            "Mounted at /content/drive\n"
          ]
        }
      ],
      "source": [
        "from google.colab import drive\n",
        "drive.mount('/content/drive')"
      ]
    },
    {
      "cell_type": "code",
      "execution_count": null,
      "metadata": {
        "id": "qL8nkLFhadQF",
        "colab": {
          "base_uri": "https://localhost:8080/"
        },
        "outputId": "ac43ecb5-71d0-4d52-c544-5fa594628fbd"
      },
      "outputs": [
        {
          "output_type": "stream",
          "name": "stdout",
          "text": [
            "Collecting torch_geometric\n",
            "  Downloading torch_geometric-2.3.1.tar.gz (661 kB)\n",
            "\u001b[2K     \u001b[90m━━━━━━━━━━━━━━━━━━━━━━━━━━━━━━━━━━━━━━━\u001b[0m \u001b[32m661.6/661.6 kB\u001b[0m \u001b[31m6.4 MB/s\u001b[0m eta \u001b[36m0:00:00\u001b[0m\n",
            "\u001b[?25h  Installing build dependencies ... \u001b[?25l\u001b[?25hdone\n",
            "  Getting requirements to build wheel ... \u001b[?25l\u001b[?25hdone\n",
            "  Preparing metadata (pyproject.toml) ... \u001b[?25l\u001b[?25hdone\n",
            "Requirement already satisfied: tqdm in /usr/local/lib/python3.10/dist-packages (from torch_geometric) (4.66.1)\n",
            "Requirement already satisfied: numpy in /usr/local/lib/python3.10/dist-packages (from torch_geometric) (1.23.5)\n",
            "Requirement already satisfied: scipy in /usr/local/lib/python3.10/dist-packages (from torch_geometric) (1.10.1)\n",
            "Requirement already satisfied: jinja2 in /usr/local/lib/python3.10/dist-packages (from torch_geometric) (3.1.2)\n",
            "Requirement already satisfied: requests in /usr/local/lib/python3.10/dist-packages (from torch_geometric) (2.31.0)\n",
            "Requirement already satisfied: pyparsing in /usr/local/lib/python3.10/dist-packages (from torch_geometric) (3.1.1)\n",
            "Requirement already satisfied: scikit-learn in /usr/local/lib/python3.10/dist-packages (from torch_geometric) (1.2.2)\n",
            "Requirement already satisfied: psutil>=5.8.0 in /usr/local/lib/python3.10/dist-packages (from torch_geometric) (5.9.5)\n",
            "Requirement already satisfied: MarkupSafe>=2.0 in /usr/local/lib/python3.10/dist-packages (from jinja2->torch_geometric) (2.1.3)\n",
            "Requirement already satisfied: charset-normalizer<4,>=2 in /usr/local/lib/python3.10/dist-packages (from requests->torch_geometric) (3.2.0)\n",
            "Requirement already satisfied: idna<4,>=2.5 in /usr/local/lib/python3.10/dist-packages (from requests->torch_geometric) (3.4)\n",
            "Requirement already satisfied: urllib3<3,>=1.21.1 in /usr/local/lib/python3.10/dist-packages (from requests->torch_geometric) (2.0.4)\n",
            "Requirement already satisfied: certifi>=2017.4.17 in /usr/local/lib/python3.10/dist-packages (from requests->torch_geometric) (2023.7.22)\n",
            "Requirement already satisfied: joblib>=1.1.1 in /usr/local/lib/python3.10/dist-packages (from scikit-learn->torch_geometric) (1.3.2)\n",
            "Requirement already satisfied: threadpoolctl>=2.0.0 in /usr/local/lib/python3.10/dist-packages (from scikit-learn->torch_geometric) (3.2.0)\n",
            "Building wheels for collected packages: torch_geometric\n",
            "  Building wheel for torch_geometric (pyproject.toml) ... \u001b[?25l\u001b[?25hdone\n",
            "  Created wheel for torch_geometric: filename=torch_geometric-2.3.1-py3-none-any.whl size=910454 sha256=dc20a469db83581a502e50a646a356608a4a6b29889cc953ffa427743dffb47a\n",
            "  Stored in directory: /root/.cache/pip/wheels/ac/dc/30/e2874821ff308ee67dcd7a66dbde912411e19e35a1addda028\n",
            "Successfully built torch_geometric\n",
            "Installing collected packages: torch_geometric\n",
            "Successfully installed torch_geometric-2.3.1\n"
          ]
        }
      ],
      "source": [
        "!pip install torch_geometric"
      ]
    },
    {
      "cell_type": "code",
      "execution_count": null,
      "metadata": {
        "id": "u3N1ZgkJ7cC5"
      },
      "outputs": [],
      "source": [
        "import glob\n",
        "import numpy as np\n",
        "\n",
        "from IPython.display import HTML\n",
        "import matplotlib.pyplot as plt\n",
        "import networkx as nx\n",
        "from matplotlib.animation import FuncAnimation\n",
        "\n"
      ]
    },
    {
      "cell_type": "code",
      "execution_count": null,
      "metadata": {
        "id": "OsjZaxOu7chO"
      },
      "outputs": [],
      "source": [
        "DATA_PATH=\"/content/drive/MyDrive/Colab Notebooks/Chapter 7 - Dynamic Graphs/35\"\n",
        "\n",
        "files = glob.glob(f\"{DATA_PATH}/*.npy\")\n",
        "files.sort()\n",
        "files\n",
        "\n",
        "edges = np.load(f'{DATA_PATH}/edges.npy')\n",
        "\n",
        "\n",
        "# Create an adjacency matrix of zeros\n",
        "num_nodes = edges.max() + 1  # Assuming nodes are 0-indexed\n",
        "adj = np.zeros((num_nodes, num_nodes))\n",
        "\n",
        "# Fill in the entries in the adjacency matrix corresponding to edges\n",
        "for i, j in edges:\n",
        "    adj[i, j] = 1\n"
      ]
    },
    {
      "cell_type": "code",
      "execution_count": null,
      "metadata": {
        "id": "aylnrso-7qWJ",
        "colab": {
          "base_uri": "https://localhost:8080/"
        },
        "outputId": "606db7c9-0f47-4e14-cd9f-eae7f0b98a50"
      },
      "outputs": [
        {
          "output_type": "execute_result",
          "data": {
            "text/plain": [
              "(92, 50, 31, 3)"
            ]
          },
          "metadata": {},
          "execution_count": 25
        }
      ],
      "source": [
        "pos =  np.load(files[3])\n",
        "pos.shape # batchsize x T x nodes x D"
      ]
    },
    {
      "cell_type": "code",
      "execution_count": null,
      "metadata": {
        "id": "55s_3DCowwCR"
      },
      "outputs": [],
      "source": [
        "edges = np.load(files[0])\n"
      ]
    },
    {
      "cell_type": "code",
      "execution_count": null,
      "metadata": {
        "id": "4Z9PE1sMTPtv"
      },
      "outputs": [],
      "source": [
        "from torch_geometric.data import Data\n",
        "from torch.utils.data import Dataset\n",
        "import numpy as np\n",
        "import torch\n",
        "\n",
        "def normalize_array(arr):\n",
        "    arr_min = np.min(arr)\n",
        "    arr_max = np.max(arr)\n",
        "    normalized_arr = (arr - arr_min) / (arr_max - arr_min)\n",
        "    return normalized_arr, arr_min, arr_max\n",
        "\n",
        "def inverse_normalize_array(normalized_arr, arr_min, arr_max):\n",
        "    denormalized_arr = normalized_arr * (arr_max - arr_min) + arr_min\n",
        "    return denormalized_arr\n",
        "\n",
        "\n",
        "from torch_geometric.data import Data\n",
        "from torch.utils.data import Dataset\n",
        "import numpy as np\n",
        "import torch\n",
        "\n",
        "def normalize_array(arr):\n",
        "    arr_min = np.min(arr)\n",
        "    arr_max = np.max(arr)\n",
        "    normalized_arr = (arr - arr_min) / (arr_max - arr_min)\n",
        "    return normalized_arr, arr_min, arr_max\n",
        "\n",
        "def inverse_normalize_array(normalized_arr, arr_min, arr_max):\n",
        "    denormalized_arr = normalized_arr * (arr_max - arr_min) + arr_min\n",
        "    return denormalized_arr\n",
        "\n",
        "class PoseDataset(Dataset):\n",
        "    def __init__(self, loc_path, vel_path, edge_path, mask_path, mask_size,\n",
        "                 max_size=50,\n",
        "                 transform=True):\n",
        "\n",
        "       # Load the data from .npy files\n",
        "        self.locations = np.load(loc_path)\n",
        "        self.velocities = np.load(vel_path)\n",
        "\n",
        "        self.transform=transform\n",
        "\n",
        "        self.edges = np.load(edge_path)\n",
        "        self.masks = np.load(mask_path)\n",
        "        self.mask_size = mask_size\n",
        "        self.window_size = max_size - self.mask_size\n",
        "        self.temporal = False\n",
        "\n",
        "    def __len__(self):\n",
        "        # The length of the dataset is the number of windows in each run\n",
        "        return self.locations.shape[0] * (self.locations.shape[1] - self.window_size + 1)\n",
        "\n",
        "    def __getitem__(self, idx):\n",
        "        total_timesteps = self.window_size + self.mask_size\n",
        "        # Concatenate location and velocity data for each node\n",
        "        nodes = np.concatenate((self.locations[idx][:total_timesteps], self.velocities[idx][:total_timesteps]), axis=2)\n",
        "        nodes = nodes.reshape(-1, nodes.shape[-1])\n",
        "\n",
        "        # Apply normalization if transform is True\n",
        "        if self.transform:\n",
        "            nodes, node_min, node_max = normalize_array(nodes)\n",
        "\n",
        "        # Repeat the edges for the total number of timesteps (past + future)\n",
        "        edge_index = np.repeat(self.edges[None, :], total_timesteps, axis=0)\n",
        "\n",
        "        # Apply the shift to the edge indices\n",
        "        shift = np.arange(total_timesteps)[:, None, None] * self.locations.shape[2]\n",
        "        edge_index += shift\n",
        "        edge_index = edge_index.reshape(2, -1)  # Flatten the edge indices into two dimensions\n",
        "\n",
        "        # Convert everything to PyTorch tensors\n",
        "        x = torch.tensor(nodes, dtype=torch.float)\n",
        "        edge_index = torch.tensor(edge_index, dtype=torch.long)\n",
        "\n",
        "        # Check edge index values\n",
        "        assert edge_index.max().item() < x.size(0), f\"Maximum node index in edge_index ({edge_index.max()}) exceeds the total number of nodes ({x.shape[0]})\"\n",
        "\n",
        "        # Calculate the indices of the masked nodes\n",
        "        mask_indices = np.arange(self.window_size * self.locations.shape[2], total_timesteps * self.locations.shape[2])\n",
        "        mask_indices = torch.tensor(mask_indices, dtype=torch.long)\n",
        "\n",
        "        if self.transform:\n",
        "            trnsfm_data = [node_min, node_max]\n",
        "            return Data(x=x, edge_index=edge_index, mask_indices=mask_indices, y=x, trnsfm=trnsfm_data)\n",
        "\n",
        "        return Data(x=x, edge_index=edge_index, mask_indices=mask_indices, y=x)\n"
      ]
    },
    {
      "cell_type": "code",
      "execution_count": null,
      "metadata": {
        "id": "zu6ynkcH93xM"
      },
      "outputs": [],
      "source": [
        "from torch_geometric.loader import DataLoader\n",
        "\n",
        "batch_size = 1\n",
        "mask_size=10\n",
        "train_dataset = PoseDataset(\n",
        "    f'{DATA_PATH}/loc_train_cmu.npy',\n",
        "    f'{DATA_PATH}/vel_train_cmu.npy',\n",
        "    f'{DATA_PATH}/edges.npy',\n",
        "    f'{DATA_PATH}/joint_masks.npy',\n",
        "    mask_size = mask_size,\n",
        "    transform=True\n",
        "  )\n",
        "\n",
        "val_dataset = PoseDataset(\n",
        "    f'{DATA_PATH}/loc_valid_cmu.npy',\n",
        "    f'{DATA_PATH}/vel_valid_cmu.npy',\n",
        "    f'{DATA_PATH}/edges.npy',\n",
        "    f'{DATA_PATH}/joint_masks.npy',\n",
        "    mask_size = mask_size,\n",
        "    transform=True\n",
        "  )\n",
        "\n",
        "test_dataset = PoseDataset(\n",
        "    f'{DATA_PATH}/loc_test_cmu.npy',\n",
        "    f'{DATA_PATH}/vel_test_cmu.npy',\n",
        "    f'{DATA_PATH}/edges.npy',\n",
        "    f'{DATA_PATH}/joint_masks.npy',\n",
        "    mask_size = mask_size,\n",
        "    transform=True\n",
        "  )\n"
      ]
    },
    {
      "cell_type": "code",
      "source": [
        "test_dataset[0]"
      ],
      "metadata": {
        "colab": {
          "base_uri": "https://localhost:8080/"
        },
        "id": "IXuKq-Dhe71-",
        "outputId": "1be3d04a-0787-4617-d0d0-799a712176da"
      },
      "execution_count": null,
      "outputs": [
        {
          "output_type": "execute_result",
          "data": {
            "text/plain": [
              "Data(x=[1550, 6], edge_index=[2, 1500], y=[1550, 6], mask_indices=[310], trnsfm=[2])"
            ]
          },
          "metadata": {},
          "execution_count": 37
        }
      ]
    },
    {
      "cell_type": "code",
      "execution_count": null,
      "metadata": {
        "id": "6o3wM3wWhfTm"
      },
      "outputs": [],
      "source": [
        "import torch\n",
        "from torch import nn\n",
        "from torch_geometric.nn import GATv2Conv\n",
        "\n",
        "class GAT(torch.nn.Module):\n",
        "    def __init__(self, n_feat,\n",
        "                 hidden_size=32,\n",
        "                 num_layers=3,\n",
        "                 num_heads=1,\n",
        "                 dropout=0.2,\n",
        "                 mask_size=10):\n",
        "        super(GAT, self).__init__()\n",
        "\n",
        "        self.num_layers = num_layers\n",
        "        self.heads = num_heads\n",
        "        self.n_feat = n_feat\n",
        "        self.hidden_size = hidden_size\n",
        "        self.gat_layers = torch.nn.ModuleList()\n",
        "        self.batch_norms = torch.nn.ModuleList()\n",
        "        self.dropout = nn.Dropout(dropout)\n",
        "        self.mask_size = mask_size\n",
        "\n",
        "        # First GAT Layer\n",
        "        self.gat_layers.append(GATv2Conv(self.n_feat, self.hidden_size, heads=num_heads))\n",
        "        # BatchNorm Layer for the first GAT Layer\n",
        "        self.batch_norms.append(nn.BatchNorm1d(num_features=self.hidden_size * num_heads))\n",
        "\n",
        "        # Intermediate GAT Layers\n",
        "        for _ in range(num_layers-2):\n",
        "          self.gat_layers.append(GATv2Conv(self.hidden_size*num_heads, self.hidden_size, heads=num_heads))\n",
        "          # BatchNorm Layers for intermediate GAT Layers\n",
        "          self.batch_norms.append(nn.BatchNorm1d(num_features=self.hidden_size * num_heads))\n",
        "\n",
        "        # Last GAT Layer\n",
        "        self.gat_layers.append(GATv2Conv(self.hidden_size * num_heads, self.n_feat))\n",
        "\n",
        "    def forward(self, data):\n",
        "        x, edge_index = data.x, data.edge_index\n",
        "        for i in range(self.num_layers):\n",
        "            x = self.gat_layers[i](x, edge_index)\n",
        "            if i < self.num_layers - 1:\n",
        "                x = self.batch_norms[i](x)\n",
        "                x = torch.relu(x)\n",
        "                x = self.dropout(x)\n",
        "\n",
        "        # Only output the last frame\n",
        "        n_nodes = edge_index.max().item() + 1\n",
        "        x = x.view(-1, n_nodes, self.n_feat)\n",
        "        return x[-self.mask_size:].view(-1, self.n_feat)\n"
      ]
    },
    {
      "cell_type": "code",
      "execution_count": null,
      "metadata": {
        "id": "3YHN5OD38I_d"
      },
      "outputs": [],
      "source": [
        "from torch.nn import MSELoss\n",
        "from torch.optim import Adam\n",
        "\n",
        "# Instantiate the model\n",
        "model = GAT(n_feat = 6, num_heads=3,hidden_size=128, num_layers=3, mask_size=10)\n",
        "\n",
        "# Define loss function and optimizer\n",
        "criterion = MSELoss()\n",
        "optimizer = Adam(model.parameters(), lr=0.0005)\n",
        "\n",
        "# Number of epochs\n",
        "epochs = 50\n"
      ]
    },
    {
      "cell_type": "code",
      "source": [
        "train_loader = DataLoader(train_dataset, batch_size=8, shuffle=True)\n",
        "valid_loader = DataLoader(val_dataset, batch_size=8, shuffle=True)\n",
        "test_loader = DataLoader(test_dataset, batch_size=8, shuffle=True)"
      ],
      "metadata": {
        "id": "XkKNPTdIeMPd"
      },
      "execution_count": null,
      "outputs": []
    },
    {
      "cell_type": "code",
      "execution_count": null,
      "metadata": {
        "id": "QPkmBnWzsU-g",
        "colab": {
          "base_uri": "https://localhost:8080/",
          "height": 85,
          "referenced_widgets": [
            "dce40caffe57405c9557c63fb669a583",
            "57a260850a5a47e09aa4d0594b0cbe03",
            "2d9b7514e47842b69d0b791ca2e35073",
            "de0e70abcf3445cebc9a939cf7c9e05d",
            "2bf44ebc2eca4634bb3b5d184f0ad26a",
            "3f9b49bbdb2047d1a259bf30012730f4",
            "e9734fbe84744aab87483cb3d3acfa27",
            "a25b93ec52544641900a7054b2a40493",
            "47e5394ce4374d88bb683866b57a7a45",
            "2e8c733b3f5d4e5482d3cbd7fd387df3",
            "d5a4f883bc7347308ee757318b0b640b"
          ]
        },
        "outputId": "db506243-86be-44c2-bf4b-c6e3d0690517"
      },
      "outputs": [
        {
          "output_type": "display_data",
          "data": {
            "text/plain": [
              "  0%|                                                                                                         …"
            ],
            "application/vnd.jupyter.widget-view+json": {
              "version_major": 2,
              "version_minor": 0,
              "model_id": "dce40caffe57405c9557c63fb669a583"
            }
          },
          "metadata": {}
        },
        {
          "output_type": "stream",
          "name": "stdout",
          "text": [
            "Epoch 1/50.. Training loss: 0.029207972949554798.. Validation loss: 0.018411076881668785\n",
            "Epoch 2/50.. Training loss: 0.015508389733584501.. Validation loss: 0.013656948100436817\n"
          ]
        }
      ],
      "source": [
        "from tqdm.notebook import tqdm\n",
        "\n",
        "for epoch in tqdm(range(epochs), ncols=300):\n",
        "    model.train()\n",
        "    train_loss = 0.0\n",
        "    for data in train_dataset:\n",
        "        optimizer.zero_grad()\n",
        "        # Generate the model's predictions for the input\n",
        "        out = model(data)\n",
        "        # Compute the loss between the outputs and the targets\n",
        "        loss = criterion(out, data.y.reshape(out.shape[0], -1))\n",
        "        loss.backward()\n",
        "        optimizer.step()\n",
        "        train_loss += loss.item()\n",
        "\n",
        "    # Validation loop\n",
        "    model.eval()\n",
        "    val_loss = 0.0\n",
        "    with torch.no_grad():\n",
        "        for val_data in val_dataset:\n",
        "            # Generate the model's predictions for the input\n",
        "            val_out = model(val_data)\n",
        "            # Compute the loss between the outputs and the targets\n",
        "            val_loss += criterion(out, data.y.reshape(out.shape[0], -1)).item()\n",
        "\n",
        "    val_loss /= len(val_dataset)\n",
        "    train_loss /= len(train_dataset)\n",
        "\n",
        "    print(f\"Epoch {epoch+1}/{epochs}.. Training loss: {train_loss}.. Validation loss: {val_loss}\")\n"
      ]
    },
    {
      "cell_type": "code",
      "source": [
        "test_loss = 0\n",
        "for test_data in test_dataset:\n",
        "    # Generate the model's predictions for the input\n",
        "    test_out = model(test_data)\n",
        "    # Compute the loss between the outputs and the targets\n",
        "    test_loss += criterion(out, data.y.reshape(out.shape[0], -1)).item()\n",
        "\n",
        "print(test_loss)"
      ],
      "metadata": {
        "id": "si2hEm4ijTmo"
      },
      "execution_count": null,
      "outputs": []
    },
    {
      "cell_type": "code",
      "source": [
        "test_loss"
      ],
      "metadata": {
        "id": "-WEkmKr_jbnD"
      },
      "execution_count": null,
      "outputs": []
    },
    {
      "cell_type": "code",
      "execution_count": null,
      "metadata": {
        "id": "aAfOwdTV5yeh"
      },
      "outputs": [],
      "source": [
        "test_d = test_dataset[0]\n",
        "# reshaped_pred_data.shape"
      ]
    },
    {
      "cell_type": "code",
      "execution_count": null,
      "metadata": {
        "id": "ER_7R6pTI_qr"
      },
      "outputs": [],
      "source": [
        "model(test_d).detach().numpy().shape"
      ]
    },
    {
      "cell_type": "code",
      "source": [
        "test_d.y.cpu().numpy().shape"
      ],
      "metadata": {
        "id": "mlqrDxQ7ijg6"
      },
      "execution_count": null,
      "outputs": []
    },
    {
      "cell_type": "code",
      "execution_count": null,
      "metadata": {
        "id": "wfYzbymHLwPf"
      },
      "outputs": [],
      "source": [
        "def reshape_data(data, num_frames=40, num_nodes=31, num_features=6):\n",
        "\n",
        "    # Check if the raw data can be reshaped to the desired dimensions\n",
        "    if data.shape[0] != num_frames * num_nodes:\n",
        "        raise ValueError('The size of the raw data does not match the provided dimensions.')\n",
        "\n",
        "    # Reshape the data\n",
        "    reshaped_data = data.reshape(num_frames, num_nodes, num_features)\n",
        "\n",
        "    return reshaped_data\n",
        "\n",
        "total_frames = 50\n",
        "# Create a copy of reshaped_true_data before doing the swap operation\n",
        "true_data_og = reshape_data(test_d.x.cpu().numpy(), num_frames=total_frames)\n",
        "reshaped_true_data = np.copy(true_data_og)\n",
        "reshaped_true_data[:,:, [1,2]] = reshaped_true_data[:,:, [2,1]]\n",
        "\n",
        "# # Similarly for reshaped_test_data\n",
        "test_data_og = reshape_data(test_d.y.cpu().numpy(), num_frames=total_frames)\n",
        "reshaped_test_data = np.copy(test_data_og)\n",
        "reshaped_test_data[:,:, [1,2]] = reshaped_test_data[:,:, [2,1]]\n",
        "\n",
        "# Similarly for reshaped_test_data\n",
        "pred_data_og = reshape_data(model(test_d).detach().numpy(), num_frames=total_frames)\n",
        "reshaped_pred_data = np.copy(pred_data_og)\n",
        "reshaped_pred_data[:,:, [1,2]] = reshaped_pred_data[:,:, [2,1]]\n",
        "\n"
      ]
    },
    {
      "cell_type": "code",
      "execution_count": null,
      "metadata": {
        "id": "66DAOjuQ-V2e"
      },
      "outputs": [],
      "source": [
        "reshaped_true_data.shape"
      ]
    },
    {
      "cell_type": "code",
      "execution_count": null,
      "metadata": {
        "id": "Q8vvoStT809h"
      },
      "outputs": [],
      "source": [
        "fig, ax = plt.subplots(1, 1, figsize=(5, 5), frameon=False)\n",
        "\n",
        "sensor_data = pred_data_og[0,:,1:3]\n",
        "positions = {i: (sensor_data[i, 0], sensor_data[i, 1]) for i in range(sensor_data.shape[0])}\n",
        "\n",
        "G = nx.Graph()\n",
        "G.add_edges_from(edges)\n",
        "\n",
        "nx.draw_networkx_nodes(G, positions, ax=ax, node_color='k', alpha=0.5)\n",
        "nx.draw_networkx_edges(G, positions, ax=ax, edge_color='k')\n",
        "\n",
        "ax.set_axis_on()  # turn the axis on\n",
        "\n",
        "x_values = [coord[0] for coord in positions.values()]\n",
        "y_values = [coord[1] for coord in positions.values()]\n",
        "\n",
        "ax.set_xticks(np.linspace(min(x_values), max(x_values), 6))  # 6 ticks along x-axis\n",
        "ax.set_yticks(np.linspace(min(y_values), max(y_values), 6))  # 6 ticks along y-axis\n",
        "\n",
        "plt.show()\n"
      ]
    },
    {
      "cell_type": "code",
      "execution_count": null,
      "metadata": {
        "id": "Cwt_4U3SjDrn"
      },
      "outputs": [],
      "source": []
    },
    {
      "cell_type": "code",
      "execution_count": null,
      "metadata": {
        "id": "nqRXc-Zqjy7a"
      },
      "outputs": [],
      "source": [
        "reshaped_pred_data[0][0],reshaped_test_data[0][0]"
      ]
    },
    {
      "cell_type": "code",
      "execution_count": null,
      "metadata": {
        "id": "tb6kuN6IHGre"
      },
      "outputs": [],
      "source": [
        "edges = np.load(files[0])\n",
        "\n",
        "fig, axes = plt.subplots(1, mask_size, figsize=(50, 10), frameon=False)\n",
        "plt.subplots_adjust(wspace=0)\n",
        "\n",
        "for n in range(mask_size):\n",
        "    sensor_data = reshaped_test_data[n][:, 1:3]\n",
        "\n",
        "    sensor_data_pred = reshaped_pred_data[n][:, 1:3]\n",
        "    # Create an empty graph\n",
        "    G = nx.Graph()\n",
        "\n",
        "    # Add edges to the graph\n",
        "    G.add_edges_from(edges)\n",
        "\n",
        "    # Visualize the graph using NetworkX\n",
        "    ax = axes[n]\n",
        "    ax.set_axis_off()\n",
        "    # nx.draw_networkx_nodes(G, sensor_data, ax=ax, node_color='k', alpha=(n+1)/10)\n",
        "    # nx.draw_networkx_edges(G, sensor_data, ax=ax, edge_color='k')\n",
        "\n",
        "    nx.draw_networkx_nodes(G, sensor_data_pred, ax=ax, node_color='k', alpha=(n+1)/10)\n",
        "    nx.draw_networkx_edges(G, sensor_data_pred, ax=ax, edge_color='k')\n",
        "plt.show()\n"
      ]
    },
    {
      "cell_type": "code",
      "execution_count": null,
      "metadata": {
        "id": "U-nkUTZbWzCi"
      },
      "outputs": [],
      "source": [
        "import matplotlib.pyplot as plt\n",
        "import networkx as nx\n",
        "from matplotlib.animation import FuncAnimation\n",
        "from IPython.display import HTML\n",
        "\n",
        "fig = plt.figure(figsize=(2, 5))\n",
        "ax = fig.add_subplot(111)\n",
        "\n",
        "# sensor_data = data_pred[0][:, 1:]\n",
        "sensor_data_pred = reshaped_pred_data[0][:, 1:3]\n",
        "# sensor_data_pred[:, [0, 1]] = sensor_data_pred[:, [1, 0]]\n",
        "# sensor_data[:,] = sensor_data[:, [1, 0]]\n",
        "\n",
        "# Create a graph object\n",
        "G = nx.Graph()\n",
        "\n",
        "# Add edges to the graph\n",
        "G.add_edges_from(edges)\n",
        "\n",
        "# Initialize empty node and edge collections for data_true\n",
        "# node_collection_true = nx.draw_networkx_nodes(G, sensor_data_true, ax=ax, node_size=50, node_color='black')\n",
        "# edge_collection_true = nx.draw_networkx_edges(G, sensor_data_true, ax=ax, edge_color='black')\n",
        "\n",
        "# Initialize empty node and edge collections for data_pred\n",
        "node_collection_pred = nx.draw_networkx_nodes(G, sensor_data_pred, ax=ax, node_size=50, node_color='red')\n",
        "edge_collection_pred = nx.draw_networkx_edges(G, sensor_data_pred, ax=ax, edge_color='red')\n",
        "\n",
        "# Function to update the graph animation\n",
        "def update(frame):\n",
        "  sensor_data_pred = reshaped_pred_data[frame][:, 1:3]\n",
        "  # sensor_data_pred[:, [0, 1]] = sensor_data_pred[:, [1, 0]]\n",
        "\n",
        "  # Update node and edge collections for data_true\n",
        "  # node_collection_true.set_offsets(sensor_data_true)\n",
        "  # edge_collection_true.set_segments([sensor_data_true[edge, :] for edge in G.edges()])\n",
        "\n",
        "  # Update node and edge collections for data_pred\n",
        "  node_collection_pred.set_offsets(sensor_data_pred)\n",
        "  edge_collection_pred.set_segments([sensor_data_pred[edge, :] for edge in G.edges()])\n",
        "\n",
        "  # return node_collection_true, edge_collection_true, node_collection_pred, edge_collection_pred\n",
        "  return node_collection_pred, edge_collection_pred\n",
        "\n",
        "# ax.set_xlim(35, 48)\n",
        "\n",
        "# Create the animation\n",
        "animation = FuncAnimation(fig, update, frames=range(mask_size), interval=50, blit=True)\n",
        "HTML(animation.to_jshtml())\n"
      ]
    },
    {
      "cell_type": "code",
      "execution_count": null,
      "metadata": {
        "id": "iR8o6k4247uW"
      },
      "outputs": [],
      "source": []
    }
  ],
  "metadata": {
    "accelerator": "TPU",
    "colab": {
      "provenance": []
    },
    "kernelspec": {
      "display_name": "Python 3",
      "name": "python3"
    },
    "language_info": {
      "name": "python"
    },
    "widgets": {
      "application/vnd.jupyter.widget-state+json": {
        "dce40caffe57405c9557c63fb669a583": {
          "model_module": "@jupyter-widgets/controls",
          "model_name": "HBoxModel",
          "model_module_version": "1.5.0",
          "state": {
            "_dom_classes": [],
            "_model_module": "@jupyter-widgets/controls",
            "_model_module_version": "1.5.0",
            "_model_name": "HBoxModel",
            "_view_count": null,
            "_view_module": "@jupyter-widgets/controls",
            "_view_module_version": "1.5.0",
            "_view_name": "HBoxView",
            "box_style": "",
            "children": [
              "IPY_MODEL_57a260850a5a47e09aa4d0594b0cbe03",
              "IPY_MODEL_2d9b7514e47842b69d0b791ca2e35073",
              "IPY_MODEL_de0e70abcf3445cebc9a939cf7c9e05d"
            ],
            "layout": "IPY_MODEL_2bf44ebc2eca4634bb3b5d184f0ad26a"
          }
        },
        "57a260850a5a47e09aa4d0594b0cbe03": {
          "model_module": "@jupyter-widgets/controls",
          "model_name": "HTMLModel",
          "model_module_version": "1.5.0",
          "state": {
            "_dom_classes": [],
            "_model_module": "@jupyter-widgets/controls",
            "_model_module_version": "1.5.0",
            "_model_name": "HTMLModel",
            "_view_count": null,
            "_view_module": "@jupyter-widgets/controls",
            "_view_module_version": "1.5.0",
            "_view_name": "HTMLView",
            "description": "",
            "description_tooltip": null,
            "layout": "IPY_MODEL_3f9b49bbdb2047d1a259bf30012730f4",
            "placeholder": "​",
            "style": "IPY_MODEL_e9734fbe84744aab87483cb3d3acfa27",
            "value": "  4%"
          }
        },
        "2d9b7514e47842b69d0b791ca2e35073": {
          "model_module": "@jupyter-widgets/controls",
          "model_name": "FloatProgressModel",
          "model_module_version": "1.5.0",
          "state": {
            "_dom_classes": [],
            "_model_module": "@jupyter-widgets/controls",
            "_model_module_version": "1.5.0",
            "_model_name": "FloatProgressModel",
            "_view_count": null,
            "_view_module": "@jupyter-widgets/controls",
            "_view_module_version": "1.5.0",
            "_view_name": "ProgressView",
            "bar_style": "",
            "description": "",
            "description_tooltip": null,
            "layout": "IPY_MODEL_a25b93ec52544641900a7054b2a40493",
            "max": 50,
            "min": 0,
            "orientation": "horizontal",
            "style": "IPY_MODEL_47e5394ce4374d88bb683866b57a7a45",
            "value": 2
          }
        },
        "de0e70abcf3445cebc9a939cf7c9e05d": {
          "model_module": "@jupyter-widgets/controls",
          "model_name": "HTMLModel",
          "model_module_version": "1.5.0",
          "state": {
            "_dom_classes": [],
            "_model_module": "@jupyter-widgets/controls",
            "_model_module_version": "1.5.0",
            "_model_name": "HTMLModel",
            "_view_count": null,
            "_view_module": "@jupyter-widgets/controls",
            "_view_module_version": "1.5.0",
            "_view_name": "HTMLView",
            "description": "",
            "description_tooltip": null,
            "layout": "IPY_MODEL_2e8c733b3f5d4e5482d3cbd7fd387df3",
            "placeholder": "​",
            "style": "IPY_MODEL_d5a4f883bc7347308ee757318b0b640b",
            "value": " 2/50 [00:28&lt;11:10, 13.97s/it]"
          }
        },
        "2bf44ebc2eca4634bb3b5d184f0ad26a": {
          "model_module": "@jupyter-widgets/base",
          "model_name": "LayoutModel",
          "model_module_version": "1.2.0",
          "state": {
            "_model_module": "@jupyter-widgets/base",
            "_model_module_version": "1.2.0",
            "_model_name": "LayoutModel",
            "_view_count": null,
            "_view_module": "@jupyter-widgets/base",
            "_view_module_version": "1.2.0",
            "_view_name": "LayoutView",
            "align_content": null,
            "align_items": null,
            "align_self": null,
            "border": null,
            "bottom": null,
            "display": "inline-flex",
            "flex": null,
            "flex_flow": "row wrap",
            "grid_area": null,
            "grid_auto_columns": null,
            "grid_auto_flow": null,
            "grid_auto_rows": null,
            "grid_column": null,
            "grid_gap": null,
            "grid_row": null,
            "grid_template_areas": null,
            "grid_template_columns": null,
            "grid_template_rows": null,
            "height": null,
            "justify_content": null,
            "justify_items": null,
            "left": null,
            "margin": null,
            "max_height": null,
            "max_width": null,
            "min_height": null,
            "min_width": null,
            "object_fit": null,
            "object_position": null,
            "order": null,
            "overflow": null,
            "overflow_x": null,
            "overflow_y": null,
            "padding": null,
            "right": null,
            "top": null,
            "visibility": null,
            "width": "300px"
          }
        },
        "3f9b49bbdb2047d1a259bf30012730f4": {
          "model_module": "@jupyter-widgets/base",
          "model_name": "LayoutModel",
          "model_module_version": "1.2.0",
          "state": {
            "_model_module": "@jupyter-widgets/base",
            "_model_module_version": "1.2.0",
            "_model_name": "LayoutModel",
            "_view_count": null,
            "_view_module": "@jupyter-widgets/base",
            "_view_module_version": "1.2.0",
            "_view_name": "LayoutView",
            "align_content": null,
            "align_items": null,
            "align_self": null,
            "border": null,
            "bottom": null,
            "display": null,
            "flex": null,
            "flex_flow": null,
            "grid_area": null,
            "grid_auto_columns": null,
            "grid_auto_flow": null,
            "grid_auto_rows": null,
            "grid_column": null,
            "grid_gap": null,
            "grid_row": null,
            "grid_template_areas": null,
            "grid_template_columns": null,
            "grid_template_rows": null,
            "height": null,
            "justify_content": null,
            "justify_items": null,
            "left": null,
            "margin": null,
            "max_height": null,
            "max_width": null,
            "min_height": null,
            "min_width": null,
            "object_fit": null,
            "object_position": null,
            "order": null,
            "overflow": null,
            "overflow_x": null,
            "overflow_y": null,
            "padding": null,
            "right": null,
            "top": null,
            "visibility": null,
            "width": null
          }
        },
        "e9734fbe84744aab87483cb3d3acfa27": {
          "model_module": "@jupyter-widgets/controls",
          "model_name": "DescriptionStyleModel",
          "model_module_version": "1.5.0",
          "state": {
            "_model_module": "@jupyter-widgets/controls",
            "_model_module_version": "1.5.0",
            "_model_name": "DescriptionStyleModel",
            "_view_count": null,
            "_view_module": "@jupyter-widgets/base",
            "_view_module_version": "1.2.0",
            "_view_name": "StyleView",
            "description_width": ""
          }
        },
        "a25b93ec52544641900a7054b2a40493": {
          "model_module": "@jupyter-widgets/base",
          "model_name": "LayoutModel",
          "model_module_version": "1.2.0",
          "state": {
            "_model_module": "@jupyter-widgets/base",
            "_model_module_version": "1.2.0",
            "_model_name": "LayoutModel",
            "_view_count": null,
            "_view_module": "@jupyter-widgets/base",
            "_view_module_version": "1.2.0",
            "_view_name": "LayoutView",
            "align_content": null,
            "align_items": null,
            "align_self": null,
            "border": null,
            "bottom": null,
            "display": null,
            "flex": "2",
            "flex_flow": null,
            "grid_area": null,
            "grid_auto_columns": null,
            "grid_auto_flow": null,
            "grid_auto_rows": null,
            "grid_column": null,
            "grid_gap": null,
            "grid_row": null,
            "grid_template_areas": null,
            "grid_template_columns": null,
            "grid_template_rows": null,
            "height": null,
            "justify_content": null,
            "justify_items": null,
            "left": null,
            "margin": null,
            "max_height": null,
            "max_width": null,
            "min_height": null,
            "min_width": null,
            "object_fit": null,
            "object_position": null,
            "order": null,
            "overflow": null,
            "overflow_x": null,
            "overflow_y": null,
            "padding": null,
            "right": null,
            "top": null,
            "visibility": null,
            "width": null
          }
        },
        "47e5394ce4374d88bb683866b57a7a45": {
          "model_module": "@jupyter-widgets/controls",
          "model_name": "ProgressStyleModel",
          "model_module_version": "1.5.0",
          "state": {
            "_model_module": "@jupyter-widgets/controls",
            "_model_module_version": "1.5.0",
            "_model_name": "ProgressStyleModel",
            "_view_count": null,
            "_view_module": "@jupyter-widgets/base",
            "_view_module_version": "1.2.0",
            "_view_name": "StyleView",
            "bar_color": null,
            "description_width": ""
          }
        },
        "2e8c733b3f5d4e5482d3cbd7fd387df3": {
          "model_module": "@jupyter-widgets/base",
          "model_name": "LayoutModel",
          "model_module_version": "1.2.0",
          "state": {
            "_model_module": "@jupyter-widgets/base",
            "_model_module_version": "1.2.0",
            "_model_name": "LayoutModel",
            "_view_count": null,
            "_view_module": "@jupyter-widgets/base",
            "_view_module_version": "1.2.0",
            "_view_name": "LayoutView",
            "align_content": null,
            "align_items": null,
            "align_self": null,
            "border": null,
            "bottom": null,
            "display": null,
            "flex": null,
            "flex_flow": null,
            "grid_area": null,
            "grid_auto_columns": null,
            "grid_auto_flow": null,
            "grid_auto_rows": null,
            "grid_column": null,
            "grid_gap": null,
            "grid_row": null,
            "grid_template_areas": null,
            "grid_template_columns": null,
            "grid_template_rows": null,
            "height": null,
            "justify_content": null,
            "justify_items": null,
            "left": null,
            "margin": null,
            "max_height": null,
            "max_width": null,
            "min_height": null,
            "min_width": null,
            "object_fit": null,
            "object_position": null,
            "order": null,
            "overflow": null,
            "overflow_x": null,
            "overflow_y": null,
            "padding": null,
            "right": null,
            "top": null,
            "visibility": null,
            "width": null
          }
        },
        "d5a4f883bc7347308ee757318b0b640b": {
          "model_module": "@jupyter-widgets/controls",
          "model_name": "DescriptionStyleModel",
          "model_module_version": "1.5.0",
          "state": {
            "_model_module": "@jupyter-widgets/controls",
            "_model_module_version": "1.5.0",
            "_model_name": "DescriptionStyleModel",
            "_view_count": null,
            "_view_module": "@jupyter-widgets/base",
            "_view_module_version": "1.2.0",
            "_view_name": "StyleView",
            "description_width": ""
          }
        }
      }
    }
  },
  "nbformat": 4,
  "nbformat_minor": 0
}