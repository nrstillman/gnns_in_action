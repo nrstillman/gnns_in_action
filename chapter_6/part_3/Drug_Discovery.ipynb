{
  "cells": [
    {
      "cell_type": "code",
      "execution_count": null,
      "metadata": {
        "id": "gyTq79NAMPWW"
      },
      "outputs": [],
      "source": [
        "!pip -q install rdkit-pypi==2021.9.4"
      ]
    },
    {
      "cell_type": "code",
      "execution_count": null,
      "metadata": {
        "colab": {
          "base_uri": "https://localhost:8080/"
        },
        "id": "JzOT2QGoNqBZ",
        "outputId": "9936a432-b297-4a9b-c7b7-aae400a34b9a"
      },
      "outputs": [
        {
          "name": "stdout",
          "output_type": "stream",
          "text": [
            "Requirement already satisfied: torch in /usr/local/lib/python3.10/dist-packages (2.3.0+cu121)\n",
            "Requirement already satisfied: torchvision in /usr/local/lib/python3.10/dist-packages (0.18.0+cu121)\n",
            "Requirement already satisfied: filelock in /usr/local/lib/python3.10/dist-packages (from torch) (3.14.0)\n",
            "Requirement already satisfied: typing-extensions>=4.8.0 in /usr/local/lib/python3.10/dist-packages (from torch) (4.12.1)\n",
            "Requirement already satisfied: sympy in /usr/local/lib/python3.10/dist-packages (from torch) (1.12.1)\n",
            "Requirement already satisfied: networkx in /usr/local/lib/python3.10/dist-packages (from torch) (3.3)\n",
            "Requirement already satisfied: jinja2 in /usr/local/lib/python3.10/dist-packages (from torch) (3.1.4)\n",
            "Requirement already satisfied: fsspec in /usr/local/lib/python3.10/dist-packages (from torch) (2023.6.0)\n",
            "Requirement already satisfied: nvidia-cuda-nvrtc-cu12==12.1.105 in /usr/local/lib/python3.10/dist-packages (from torch) (12.1.105)\n",
            "Requirement already satisfied: nvidia-cuda-runtime-cu12==12.1.105 in /usr/local/lib/python3.10/dist-packages (from torch) (12.1.105)\n",
            "Requirement already satisfied: nvidia-cuda-cupti-cu12==12.1.105 in /usr/local/lib/python3.10/dist-packages (from torch) (12.1.105)\n",
            "Requirement already satisfied: nvidia-cudnn-cu12==8.9.2.26 in /usr/local/lib/python3.10/dist-packages (from torch) (8.9.2.26)\n",
            "Requirement already satisfied: nvidia-cublas-cu12==12.1.3.1 in /usr/local/lib/python3.10/dist-packages (from torch) (12.1.3.1)\n",
            "Requirement already satisfied: nvidia-cufft-cu12==11.0.2.54 in /usr/local/lib/python3.10/dist-packages (from torch) (11.0.2.54)\n",
            "Requirement already satisfied: nvidia-curand-cu12==10.3.2.106 in /usr/local/lib/python3.10/dist-packages (from torch) (10.3.2.106)\n",
            "Requirement already satisfied: nvidia-cusolver-cu12==11.4.5.107 in /usr/local/lib/python3.10/dist-packages (from torch) (11.4.5.107)\n",
            "Requirement already satisfied: nvidia-cusparse-cu12==12.1.0.106 in /usr/local/lib/python3.10/dist-packages (from torch) (12.1.0.106)\n",
            "Requirement already satisfied: nvidia-nccl-cu12==2.20.5 in /usr/local/lib/python3.10/dist-packages (from torch) (2.20.5)\n",
            "Requirement already satisfied: nvidia-nvtx-cu12==12.1.105 in /usr/local/lib/python3.10/dist-packages (from torch) (12.1.105)\n",
            "Requirement already satisfied: triton==2.3.0 in /usr/local/lib/python3.10/dist-packages (from torch) (2.3.0)\n",
            "Requirement already satisfied: nvidia-nvjitlink-cu12 in /usr/local/lib/python3.10/dist-packages (from nvidia-cusolver-cu12==11.4.5.107->torch) (12.5.40)\n",
            "Requirement already satisfied: numpy in /usr/local/lib/python3.10/dist-packages (from torchvision) (1.25.2)\n",
            "Requirement already satisfied: pillow!=8.3.*,>=5.3.0 in /usr/local/lib/python3.10/dist-packages (from torchvision) (9.4.0)\n",
            "Requirement already satisfied: MarkupSafe>=2.0 in /usr/local/lib/python3.10/dist-packages (from jinja2->torch) (2.1.5)\n",
            "Requirement already satisfied: mpmath<1.4.0,>=1.1.0 in /usr/local/lib/python3.10/dist-packages (from sympy->torch) (1.3.0)\n",
            "2.3.0+cu121\n"
          ]
        }
      ],
      "source": [
        "!pip install torch torchvision\n",
        "!python -c \"import torch; print(torch.__version__)\""
      ]
    },
    {
      "cell_type": "code",
      "execution_count": null,
      "metadata": {
        "colab": {
          "base_uri": "https://localhost:8080/"
        },
        "id": "LibTn0j6PJKe",
        "outputId": "f62fcdd2-e068-4b04-dcea-695caeb365dc"
      },
      "outputs": [
        {
          "name": "stdout",
          "output_type": "stream",
          "text": [
            "Requirement already satisfied: torch_geometric in /usr/local/lib/python3.10/dist-packages (2.5.3)\n",
            "Requirement already satisfied: tqdm in /usr/local/lib/python3.10/dist-packages (from torch_geometric) (4.66.4)\n",
            "Requirement already satisfied: numpy in /usr/local/lib/python3.10/dist-packages (from torch_geometric) (1.25.2)\n",
            "Requirement already satisfied: scipy in /usr/local/lib/python3.10/dist-packages (from torch_geometric) (1.11.4)\n",
            "Requirement already satisfied: fsspec in /usr/local/lib/python3.10/dist-packages (from torch_geometric) (2023.6.0)\n",
            "Requirement already satisfied: jinja2 in /usr/local/lib/python3.10/dist-packages (from torch_geometric) (3.1.4)\n",
            "Requirement already satisfied: aiohttp in /usr/local/lib/python3.10/dist-packages (from torch_geometric) (3.9.5)\n",
            "Requirement already satisfied: requests in /usr/local/lib/python3.10/dist-packages (from torch_geometric) (2.31.0)\n",
            "Requirement already satisfied: pyparsing in /usr/local/lib/python3.10/dist-packages (from torch_geometric) (3.1.2)\n",
            "Requirement already satisfied: scikit-learn in /usr/local/lib/python3.10/dist-packages (from torch_geometric) (1.2.2)\n",
            "Requirement already satisfied: psutil>=5.8.0 in /usr/local/lib/python3.10/dist-packages (from torch_geometric) (5.9.5)\n",
            "Requirement already satisfied: aiosignal>=1.1.2 in /usr/local/lib/python3.10/dist-packages (from aiohttp->torch_geometric) (1.3.1)\n",
            "Requirement already satisfied: attrs>=17.3.0 in /usr/local/lib/python3.10/dist-packages (from aiohttp->torch_geometric) (23.2.0)\n",
            "Requirement already satisfied: frozenlist>=1.1.1 in /usr/local/lib/python3.10/dist-packages (from aiohttp->torch_geometric) (1.4.1)\n",
            "Requirement already satisfied: multidict<7.0,>=4.5 in /usr/local/lib/python3.10/dist-packages (from aiohttp->torch_geometric) (6.0.5)\n",
            "Requirement already satisfied: yarl<2.0,>=1.0 in /usr/local/lib/python3.10/dist-packages (from aiohttp->torch_geometric) (1.9.4)\n",
            "Requirement already satisfied: async-timeout<5.0,>=4.0 in /usr/local/lib/python3.10/dist-packages (from aiohttp->torch_geometric) (4.0.3)\n",
            "Requirement already satisfied: MarkupSafe>=2.0 in /usr/local/lib/python3.10/dist-packages (from jinja2->torch_geometric) (2.1.5)\n",
            "Requirement already satisfied: charset-normalizer<4,>=2 in /usr/local/lib/python3.10/dist-packages (from requests->torch_geometric) (3.3.2)\n",
            "Requirement already satisfied: idna<4,>=2.5 in /usr/local/lib/python3.10/dist-packages (from requests->torch_geometric) (3.7)\n",
            "Requirement already satisfied: urllib3<3,>=1.21.1 in /usr/local/lib/python3.10/dist-packages (from requests->torch_geometric) (2.0.7)\n",
            "Requirement already satisfied: certifi>=2017.4.17 in /usr/local/lib/python3.10/dist-packages (from requests->torch_geometric) (2024.6.2)\n",
            "Requirement already satisfied: joblib>=1.1.1 in /usr/local/lib/python3.10/dist-packages (from scikit-learn->torch_geometric) (1.4.2)\n",
            "Requirement already satisfied: threadpoolctl>=2.0.0 in /usr/local/lib/python3.10/dist-packages (from scikit-learn->torch_geometric) (3.5.0)\n"
          ]
        }
      ],
      "source": [
        "!pip install torch_geometric"
      ]
    },
    {
      "cell_type": "markdown",
      "metadata": {
        "id": "PvKvZ-tPN0QS"
      },
      "source": []
    },
    {
      "cell_type": "markdown",
      "metadata": {
        "id": "GfvdDYDTN1BA"
      },
      "source": [
        "## Data"
      ]
    },
    {
      "cell_type": "code",
      "execution_count": null,
      "metadata": {
        "colab": {
          "base_uri": "https://localhost:8080/",
          "height": 226
        },
        "id": "0V5_72DCNkOM",
        "outputId": "86cb3a6a-50da-40b9-bf75-8cc97b727661"
      },
      "outputs": [
        {
          "data": {
            "application/vnd.google.colaboratory.intrinsic+json": {
              "type": "dataframe",
              "variable_name": "df"
            },
            "text/html": [
              "\n",
              "  <div id=\"df-495f3127-14fa-4a5c-a058-42c404a17a9a\" class=\"colab-df-container\">\n",
              "    <div>\n",
              "<style scoped>\n",
              "    .dataframe tbody tr th:only-of-type {\n",
              "        vertical-align: middle;\n",
              "    }\n",
              "\n",
              "    .dataframe tbody tr th {\n",
              "        vertical-align: top;\n",
              "    }\n",
              "\n",
              "    .dataframe thead th {\n",
              "        text-align: right;\n",
              "    }\n",
              "</style>\n",
              "<table border=\"1\" class=\"dataframe\">\n",
              "  <thead>\n",
              "    <tr style=\"text-align: right;\">\n",
              "      <th></th>\n",
              "      <th>smiles</th>\n",
              "      <th>logP</th>\n",
              "      <th>qed</th>\n",
              "      <th>SAS</th>\n",
              "    </tr>\n",
              "  </thead>\n",
              "  <tbody>\n",
              "    <tr>\n",
              "      <th>0</th>\n",
              "      <td>CC(C)(C)c1ccc2occ(CC(=O)Nc3ccccc3F)c2c1</td>\n",
              "      <td>5.05060</td>\n",
              "      <td>0.702012</td>\n",
              "      <td>2.084095</td>\n",
              "    </tr>\n",
              "    <tr>\n",
              "      <th>1</th>\n",
              "      <td>C[C@@H]1CC(Nc2cncc(-c3nncn3C)c2)C[C@@H](C)C1</td>\n",
              "      <td>3.11370</td>\n",
              "      <td>0.928975</td>\n",
              "      <td>3.432004</td>\n",
              "    </tr>\n",
              "    <tr>\n",
              "      <th>2</th>\n",
              "      <td>N#Cc1ccc(-c2ccc(O[C@@H](C(=O)N3CCCC3)c3ccccc3)...</td>\n",
              "      <td>4.96778</td>\n",
              "      <td>0.599682</td>\n",
              "      <td>2.470633</td>\n",
              "    </tr>\n",
              "    <tr>\n",
              "      <th>3</th>\n",
              "      <td>CCOC(=O)[C@@H]1CCCN(C(=O)c2nc(-c3ccc(C)cc3)n3c...</td>\n",
              "      <td>4.00022</td>\n",
              "      <td>0.690944</td>\n",
              "      <td>2.822753</td>\n",
              "    </tr>\n",
              "    <tr>\n",
              "      <th>4</th>\n",
              "      <td>N#CC1=C(SCC(=O)Nc2cccc(Cl)c2)N=C([O-])[C@H](C#...</td>\n",
              "      <td>3.60956</td>\n",
              "      <td>0.789027</td>\n",
              "      <td>4.035182</td>\n",
              "    </tr>\n",
              "  </tbody>\n",
              "</table>\n",
              "</div>\n",
              "    <div class=\"colab-df-buttons\">\n",
              "\n",
              "  <div class=\"colab-df-container\">\n",
              "    <button class=\"colab-df-convert\" onclick=\"convertToInteractive('df-495f3127-14fa-4a5c-a058-42c404a17a9a')\"\n",
              "            title=\"Convert this dataframe to an interactive table.\"\n",
              "            style=\"display:none;\">\n",
              "\n",
              "  <svg xmlns=\"http://www.w3.org/2000/svg\" height=\"24px\" viewBox=\"0 -960 960 960\">\n",
              "    <path d=\"M120-120v-720h720v720H120Zm60-500h600v-160H180v160Zm220 220h160v-160H400v160Zm0 220h160v-160H400v160ZM180-400h160v-160H180v160Zm440 0h160v-160H620v160ZM180-180h160v-160H180v160Zm440 0h160v-160H620v160Z\"/>\n",
              "  </svg>\n",
              "    </button>\n",
              "\n",
              "  <style>\n",
              "    .colab-df-container {\n",
              "      display:flex;\n",
              "      gap: 12px;\n",
              "    }\n",
              "\n",
              "    .colab-df-convert {\n",
              "      background-color: #E8F0FE;\n",
              "      border: none;\n",
              "      border-radius: 50%;\n",
              "      cursor: pointer;\n",
              "      display: none;\n",
              "      fill: #1967D2;\n",
              "      height: 32px;\n",
              "      padding: 0 0 0 0;\n",
              "      width: 32px;\n",
              "    }\n",
              "\n",
              "    .colab-df-convert:hover {\n",
              "      background-color: #E2EBFA;\n",
              "      box-shadow: 0px 1px 2px rgba(60, 64, 67, 0.3), 0px 1px 3px 1px rgba(60, 64, 67, 0.15);\n",
              "      fill: #174EA6;\n",
              "    }\n",
              "\n",
              "    .colab-df-buttons div {\n",
              "      margin-bottom: 4px;\n",
              "    }\n",
              "\n",
              "    [theme=dark] .colab-df-convert {\n",
              "      background-color: #3B4455;\n",
              "      fill: #D2E3FC;\n",
              "    }\n",
              "\n",
              "    [theme=dark] .colab-df-convert:hover {\n",
              "      background-color: #434B5C;\n",
              "      box-shadow: 0px 1px 3px 1px rgba(0, 0, 0, 0.15);\n",
              "      filter: drop-shadow(0px 1px 2px rgba(0, 0, 0, 0.3));\n",
              "      fill: #FFFFFF;\n",
              "    }\n",
              "  </style>\n",
              "\n",
              "    <script>\n",
              "      const buttonEl =\n",
              "        document.querySelector('#df-495f3127-14fa-4a5c-a058-42c404a17a9a button.colab-df-convert');\n",
              "      buttonEl.style.display =\n",
              "        google.colab.kernel.accessAllowed ? 'block' : 'none';\n",
              "\n",
              "      async function convertToInteractive(key) {\n",
              "        const element = document.querySelector('#df-495f3127-14fa-4a5c-a058-42c404a17a9a');\n",
              "        const dataTable =\n",
              "          await google.colab.kernel.invokeFunction('convertToInteractive',\n",
              "                                                    [key], {});\n",
              "        if (!dataTable) return;\n",
              "\n",
              "        const docLinkHtml = 'Like what you see? Visit the ' +\n",
              "          '<a target=\"_blank\" href=https://colab.research.google.com/notebooks/data_table.ipynb>data table notebook</a>'\n",
              "          + ' to learn more about interactive tables.';\n",
              "        element.innerHTML = '';\n",
              "        dataTable['output_type'] = 'display_data';\n",
              "        await google.colab.output.renderOutput(dataTable, element);\n",
              "        const docLink = document.createElement('div');\n",
              "        docLink.innerHTML = docLinkHtml;\n",
              "        element.appendChild(docLink);\n",
              "      }\n",
              "    </script>\n",
              "  </div>\n",
              "\n",
              "\n",
              "<div id=\"df-b35d9170-11eb-42f1-8041-f87fdead3de1\">\n",
              "  <button class=\"colab-df-quickchart\" onclick=\"quickchart('df-b35d9170-11eb-42f1-8041-f87fdead3de1')\"\n",
              "            title=\"Suggest charts\"\n",
              "            style=\"display:none;\">\n",
              "\n",
              "<svg xmlns=\"http://www.w3.org/2000/svg\" height=\"24px\"viewBox=\"0 0 24 24\"\n",
              "     width=\"24px\">\n",
              "    <g>\n",
              "        <path d=\"M19 3H5c-1.1 0-2 .9-2 2v14c0 1.1.9 2 2 2h14c1.1 0 2-.9 2-2V5c0-1.1-.9-2-2-2zM9 17H7v-7h2v7zm4 0h-2V7h2v10zm4 0h-2v-4h2v4z\"/>\n",
              "    </g>\n",
              "</svg>\n",
              "  </button>\n",
              "\n",
              "<style>\n",
              "  .colab-df-quickchart {\n",
              "      --bg-color: #E8F0FE;\n",
              "      --fill-color: #1967D2;\n",
              "      --hover-bg-color: #E2EBFA;\n",
              "      --hover-fill-color: #174EA6;\n",
              "      --disabled-fill-color: #AAA;\n",
              "      --disabled-bg-color: #DDD;\n",
              "  }\n",
              "\n",
              "  [theme=dark] .colab-df-quickchart {\n",
              "      --bg-color: #3B4455;\n",
              "      --fill-color: #D2E3FC;\n",
              "      --hover-bg-color: #434B5C;\n",
              "      --hover-fill-color: #FFFFFF;\n",
              "      --disabled-bg-color: #3B4455;\n",
              "      --disabled-fill-color: #666;\n",
              "  }\n",
              "\n",
              "  .colab-df-quickchart {\n",
              "    background-color: var(--bg-color);\n",
              "    border: none;\n",
              "    border-radius: 50%;\n",
              "    cursor: pointer;\n",
              "    display: none;\n",
              "    fill: var(--fill-color);\n",
              "    height: 32px;\n",
              "    padding: 0;\n",
              "    width: 32px;\n",
              "  }\n",
              "\n",
              "  .colab-df-quickchart:hover {\n",
              "    background-color: var(--hover-bg-color);\n",
              "    box-shadow: 0 1px 2px rgba(60, 64, 67, 0.3), 0 1px 3px 1px rgba(60, 64, 67, 0.15);\n",
              "    fill: var(--button-hover-fill-color);\n",
              "  }\n",
              "\n",
              "  .colab-df-quickchart-complete:disabled,\n",
              "  .colab-df-quickchart-complete:disabled:hover {\n",
              "    background-color: var(--disabled-bg-color);\n",
              "    fill: var(--disabled-fill-color);\n",
              "    box-shadow: none;\n",
              "  }\n",
              "\n",
              "  .colab-df-spinner {\n",
              "    border: 2px solid var(--fill-color);\n",
              "    border-color: transparent;\n",
              "    border-bottom-color: var(--fill-color);\n",
              "    animation:\n",
              "      spin 1s steps(1) infinite;\n",
              "  }\n",
              "\n",
              "  @keyframes spin {\n",
              "    0% {\n",
              "      border-color: transparent;\n",
              "      border-bottom-color: var(--fill-color);\n",
              "      border-left-color: var(--fill-color);\n",
              "    }\n",
              "    20% {\n",
              "      border-color: transparent;\n",
              "      border-left-color: var(--fill-color);\n",
              "      border-top-color: var(--fill-color);\n",
              "    }\n",
              "    30% {\n",
              "      border-color: transparent;\n",
              "      border-left-color: var(--fill-color);\n",
              "      border-top-color: var(--fill-color);\n",
              "      border-right-color: var(--fill-color);\n",
              "    }\n",
              "    40% {\n",
              "      border-color: transparent;\n",
              "      border-right-color: var(--fill-color);\n",
              "      border-top-color: var(--fill-color);\n",
              "    }\n",
              "    60% {\n",
              "      border-color: transparent;\n",
              "      border-right-color: var(--fill-color);\n",
              "    }\n",
              "    80% {\n",
              "      border-color: transparent;\n",
              "      border-right-color: var(--fill-color);\n",
              "      border-bottom-color: var(--fill-color);\n",
              "    }\n",
              "    90% {\n",
              "      border-color: transparent;\n",
              "      border-bottom-color: var(--fill-color);\n",
              "    }\n",
              "  }\n",
              "</style>\n",
              "\n",
              "  <script>\n",
              "    async function quickchart(key) {\n",
              "      const quickchartButtonEl =\n",
              "        document.querySelector('#' + key + ' button');\n",
              "      quickchartButtonEl.disabled = true;  // To prevent multiple clicks.\n",
              "      quickchartButtonEl.classList.add('colab-df-spinner');\n",
              "      try {\n",
              "        const charts = await google.colab.kernel.invokeFunction(\n",
              "            'suggestCharts', [key], {});\n",
              "      } catch (error) {\n",
              "        console.error('Error during call to suggestCharts:', error);\n",
              "      }\n",
              "      quickchartButtonEl.classList.remove('colab-df-spinner');\n",
              "      quickchartButtonEl.classList.add('colab-df-quickchart-complete');\n",
              "    }\n",
              "    (() => {\n",
              "      let quickchartButtonEl =\n",
              "        document.querySelector('#df-b35d9170-11eb-42f1-8041-f87fdead3de1 button');\n",
              "      quickchartButtonEl.style.display =\n",
              "        google.colab.kernel.accessAllowed ? 'block' : 'none';\n",
              "    })();\n",
              "  </script>\n",
              "</div>\n",
              "    </div>\n",
              "  </div>\n"
            ],
            "text/plain": [
              "                                              smiles     logP       qed  \\\n",
              "0            CC(C)(C)c1ccc2occ(CC(=O)Nc3ccccc3F)c2c1  5.05060  0.702012   \n",
              "1       C[C@@H]1CC(Nc2cncc(-c3nncn3C)c2)C[C@@H](C)C1  3.11370  0.928975   \n",
              "2  N#Cc1ccc(-c2ccc(O[C@@H](C(=O)N3CCCC3)c3ccccc3)...  4.96778  0.599682   \n",
              "3  CCOC(=O)[C@@H]1CCCN(C(=O)c2nc(-c3ccc(C)cc3)n3c...  4.00022  0.690944   \n",
              "4  N#CC1=C(SCC(=O)Nc2cccc(Cl)c2)N=C([O-])[C@H](C#...  3.60956  0.789027   \n",
              "\n",
              "        SAS  \n",
              "0  2.084095  \n",
              "1  3.432004  \n",
              "2  2.470633  \n",
              "3  2.822753  \n",
              "4  4.035182  "
            ]
          },
          "execution_count": 67,
          "metadata": {},
          "output_type": "execute_result"
        }
      ],
      "source": [
        "import requests\n",
        "import pandas as pd\n",
        "\n",
        "def download_file(url, filename):\n",
        "    response = requests.get(url)\n",
        "    response.raise_for_status()  # Will raise an HTTPError for bad requests\n",
        "    with open(filename, 'wb') as f:\n",
        "        f.write(response.content)\n",
        "\n",
        "url = \"https://raw.githubusercontent.com/aspuru-guzik-group/chemical_vae/master/models/zinc_properties/250k_rndm_zinc_drugs_clean_3.csv\"\n",
        "filename = \"250k_rndm_zinc_drugs_clean_3.csv\"\n",
        "\n",
        "# Download the file\n",
        "download_file(url, filename)\n",
        "\n",
        "# Load into a DataFrame\n",
        "df = pd.read_csv(filename)\n",
        "df[\"smiles\"] = df[\"smiles\"].apply(lambda s: s.replace(\"\\n\", \"\"))\n",
        "df.head()\n"
      ]
    },
    {
      "cell_type": "code",
      "execution_count": null,
      "metadata": {
        "id": "PjWC2UwXK8Ix"
      },
      "outputs": [],
      "source": [
        "from torch_geometric.data import Data\n",
        "import torch\n",
        "import numpy as np\n",
        "from rdkit import Chem\n",
        "\n",
        "def smiles_to_graph(smiles, qed, max_num_atoms=120):\n",
        "    mol = Chem.MolFromSmiles(smiles)\n",
        "    if not mol:\n",
        "        return None\n",
        "\n",
        "    # Initialize atom features\n",
        "    atom_features = np.zeros((max_num_atoms, 1))\n",
        "    for i, atom in enumerate(mol.GetAtoms()):\n",
        "        atom_features[i] = atom.GetAtomicNum()\n",
        "\n",
        "    # Initialize edge index and edge features\n",
        "    edges = []\n",
        "    edge_features = []\n",
        "    for bond in mol.GetBonds():\n",
        "        begin_idx = bond.GetBeginAtomIdx()\n",
        "        end_idx = bond.GetEndAtomIdx()\n",
        "        edges.append([begin_idx, end_idx])\n",
        "        bond_type = bond.GetBondTypeAsDouble()\n",
        "        bond_feature = [1 if i == bond_type else 0 for i in range(4)]  # Assuming 4 bond types\n",
        "        edge_features.append(bond_feature)\n",
        "\n",
        "    # Convert to tensors and pad\n",
        "    edge_index = torch.tensor(edges, dtype=torch.long).t().contiguous()\n",
        "    edge_attr = torch.tensor(edge_features, dtype=torch.float)\n",
        "    x = torch.tensor(atom_features, dtype=torch.float).view(-1, 1)\n",
        "\n",
        "    num_heavy_atoms = mol.GetNumHeavyAtoms()\n",
        "\n",
        "    return Data(x=x, edge_index=edge_index, edge_attr=edge_attr, qed=torch.tensor([qed], dtype=torch.float), num_heavy_atoms=num_heavy_atoms)"
      ]
    },
    {
      "cell_type": "code",
      "execution_count": null,
      "metadata": {
        "id": "tF7_ed7jPxcY"
      },
      "outputs": [],
      "source": [
        "import networkx as nx\n",
        "import matplotlib.pyplot as plt\n",
        "\n",
        "def torch_geom_data_to_networkx(data):\n",
        "    G = nx.Graph()\n",
        "    edge_index = data.edge_index.numpy()\n",
        "    edges = edge_index.T\n",
        "    for i, edge in enumerate(edges):\n",
        "        # edge_attr is bond strength\n",
        "        weight = data.edge_attr[i].item()\n",
        "        G.add_edge(edge[0], edge[1], weight=weight)\n",
        "    for idx, node_features in enumerate(data.x):\n",
        "        # Node feature is atomic number as single value\n",
        "        G.nodes[idx]['atomic_num'] = node_features.item()\n",
        "    return G\n",
        "\n"
      ]
    },
    {
      "cell_type": "code",
      "execution_count": null,
      "metadata": {
        "colab": {
          "base_uri": "https://localhost:8080/",
          "height": 437
        },
        "id": "O17tlJmoP2rW",
        "outputId": "05b22aa8-3236-4d82-8e7a-83880557a14c"
      },
      "outputs": [
        {
          "data": {
            "image/png": "[encoded data removed]",
            "text/plain": [
              "<PIL.PngImagePlugin.PngImageFile image mode=RGB size=800x400>"
            ]
          },
          "execution_count": 70,
          "metadata": {},
          "output_type": "execute_result"
        }
      ],
      "source": [
        "from rdkit import Chem\n",
        "from rdkit.Chem.Draw import MolsToGridImage\n",
        "import pandas as pd\n",
        "\n",
        "def display_molecules(df, num_mols=8):\n",
        "    # Random sample of the DataFrame\n",
        "    sample_df = df.sample(n=num_mols, random_state=42)\n",
        "    mols = [Chem.MolFromSmiles(smiles) for smiles in sample_df['smiles']]\n",
        "\n",
        "    # Display properties if available (like QED)\n",
        "    props = sample_df.get('qed', None)\n",
        "    legends = [f\"QED: {qed:.2f}\" if props is not None else \"\" for qed in props] if props is not None else None\n",
        "\n",
        "    return MolsToGridImage(mols, molsPerRow=4, subImgSize=(200, 200), legends=legends)\n",
        "\n",
        "# Display molecules from the train dataset\n",
        "display_molecules(df, num_mols=8)\n"
      ]
    },
    {
      "cell_type": "code",
      "execution_count": null,
      "metadata": {
        "colab": {
          "base_uri": "https://localhost:8080/",
          "height": 237
        },
        "id": "1F_AnOwFpX_L",
        "outputId": "b3cb52cc-70c2-4c9c-c8d6-7b8e09f017d6"
      },
      "outputs": [
        {
          "data": {
            "image/png": "[encoded data removed]",
            "text/plain": [
              "<PIL.PngImagePlugin.PngImageFile image mode=RGB size=800x200>"
            ]
          },
          "execution_count": 71,
          "metadata": {},
          "output_type": "execute_result"
        }
      ],
      "source": [
        "from rdkit.Chem.Draw import MolsToGridImage\n",
        "\n",
        "def display_extreme_qed_molecules(df, num_mols=4):\n",
        "    df = df.dropna(subset=['qed'])  # ensure there are QED values\n",
        "    df['qed'] = pd.to_numeric(df['qed'], errors='coerce')\n",
        "\n",
        "    top_qed_df = df.nlargest(num_mols, 'qed')\n",
        "    bottom_qed_df = df.nsmallest(num_mols, 'qed')\n",
        "\n",
        "    top_mols = []\n",
        "    bottom_mols = []\n",
        "    top_legends = []\n",
        "    bottom_legends = []\n",
        "\n",
        "    for _, row in top_qed_df.iterrows():\n",
        "        mol = Chem.MolFromSmiles(row['smiles'])\n",
        "        if mol:\n",
        "            top_mols.append(mol)\n",
        "            top_legends.append(f\"QED: {row['qed']:.2f}\\n# Heavy: {mol.GetNumHeavyAtoms()}\")\n",
        "\n",
        "    for _, row in bottom_qed_df.iterrows():\n",
        "        mol = Chem.MolFromSmiles(row['smiles'])\n",
        "        if mol:\n",
        "            bottom_mols.append(mol)\n",
        "            bottom_legends.append(f\"QED: {row['qed']:.2f}\\n# Heavy: {mol.GetNumHeavyAtoms()}\")\n",
        "\n",
        "    top_row = MolsToGridImage(top_mols, molsPerRow=num_mols, subImgSize=(200, 200), legends=top_legends)\n",
        "    bottom_row = MolsToGridImage(bottom_mols, molsPerRow=num_mols, subImgSize=(200, 200), legends=bottom_legends)\n",
        "\n",
        "    return top_row, bottom_row\n",
        "\n",
        "top_row_image, bottom_row_image = display_extreme_qed_molecules(df, num_mols=4)\n",
        "\n",
        "top_row_image\n"
      ]
    },
    {
      "cell_type": "code",
      "execution_count": null,
      "metadata": {
        "colab": {
          "base_uri": "https://localhost:8080/",
          "height": 237
        },
        "id": "DxjNOLH2pbXP",
        "outputId": "44534b69-fa37-483d-e87e-137358eee43e"
      },
      "outputs": [
        {
          "data": {
            "image/png": "[encoded data removed]",
            "text/plain": [
              "<PIL.PngImagePlugin.PngImageFile image mode=RGB size=800x200>"
            ]
          },
          "execution_count": 72,
          "metadata": {},
          "output_type": "execute_result"
        }
      ],
      "source": [
        "bottom_row_image\n"
      ]
    },
    {
      "cell_type": "code",
      "execution_count": null,
      "metadata": {
        "id": "qEc-SusfRUUH"
      },
      "outputs": [],
      "source": [
        "import pandas as pd\n",
        "from torch_geometric.data import Dataset\n",
        "\n",
        "class MoleculeDataset(Dataset):\n",
        "    def __init__(self, dataframe):\n",
        "        super(MoleculeDataset, self).__init__()  # Initialize the base class\n",
        "        self.df = dataframe\n",
        "\n",
        "    def __len__(self):\n",
        "        return len(self.df)\n",
        "\n",
        "    def len(self):\n",
        "        return len(self.df)\n",
        "\n",
        "    def get(self, idx):\n",
        "        row = self.df.iloc[idx]\n",
        "        return smiles_to_graph(row['smiles'], row['qed'])\n",
        "\n",
        "# Create dataset\n",
        "df = pd.read_csv(filename)\n",
        "train_df = df.sample(frac=0.75, random_state=42)\n",
        "train_df.reset_index(drop=True, inplace=True)\n",
        "dataset = MoleculeDataset(train_df.iloc[:8000])\n"
      ]
    },
    {
      "cell_type": "code",
      "execution_count": null,
      "metadata": {
        "colab": {
          "base_uri": "https://localhost:8080/"
        },
        "id": "G9BDnfHer7a3",
        "outputId": "7cf952b5-35c6-4067-b394-d92ae48c1e7e"
      },
      "outputs": [
        {
          "data": {
            "text/plain": [
              "torch.Size([120, 1])"
            ]
          },
          "execution_count": 74,
          "metadata": {},
          "output_type": "execute_result"
        }
      ],
      "source": [
        "dataset[0].x.shape"
      ]
    },
    {
      "cell_type": "code",
      "execution_count": null,
      "metadata": {
        "colab": {
          "base_uri": "https://localhost:8080/"
        },
        "id": "6TwACg-ero_l",
        "outputId": "a567c54f-f70d-48f8-a73d-f8223667348c"
      },
      "outputs": [
        {
          "name": "stdout",
          "output_type": "stream",
          "text": [
            "Dataset size: 8000\n",
            "Feature tensor size: torch.Size([120, 1])\n",
            "Edge index size: torch.Size([2, 24])\n"
          ]
        }
      ],
      "source": [
        "print(\"Dataset size:\", len(dataset))\n",
        "sample_data = dataset[11]\n",
        "print(\"Feature tensor size:\", sample_data.x.size())\n",
        "print(\"Edge index size:\", sample_data.edge_index.size())\n"
      ]
    },
    {
      "cell_type": "code",
      "execution_count": null,
      "metadata": {
        "id": "9BVXAdptMq7E"
      },
      "outputs": [],
      "source": [
        "from rdkit import Chem\n",
        "from rdkit.Chem import RWMol, BondType\n",
        "\n",
        "def graph_to_molecule(data):\n",
        "    # Initialize a writable molecule\n",
        "    molecule = Chem.RWMol()\n",
        "\n",
        "    # Add atoms\n",
        "    for atomic_num in data.x:\n",
        "        atom = Chem.Atom(int(atomic_num.item()))\n",
        "        _ = molecule.AddAtom(atom)\n",
        "\n",
        "    # Add bonds\n",
        "    edge_index = data.edge_index.t().numpy()\n",
        "    edge_attr = data.edge_attr.numpy()\n",
        "\n",
        "    for i, (start, end) in enumerate(edge_index):\n",
        "        bond_type = edge_attr[i].item()  # Bond types are integers\n",
        "        if bond_type == 0:\n",
        "            bond_type_enum = BondType.SINGLE\n",
        "        elif bond_type == 1:\n",
        "            bond_type_enum = BondType.DOUBLE\n",
        "        elif bond_type == 2:\n",
        "            bond_type_enum = BondType.TRIPLE\n",
        "        elif bond_type == 3:\n",
        "            bond_type_enum = BondType.AROMATIC\n",
        "        else:\n",
        "            bond_type_enum = None  # Non-bond or special case\n",
        "\n",
        "        if bond_type_enum:\n",
        "            molecule.AddBond(int(start), int(end), bond_type_enum)\n",
        "\n",
        "    # Sanitize the molecule\n",
        "    try:\n",
        "        Chem.SanitizeMol(molecule)\n",
        "        return molecule\n",
        "    except:\n",
        "        return None  # Return None if sanitization fails\n"
      ]
    },
    {
      "cell_type": "markdown",
      "metadata": {
        "id": "BavBNF99Nw8B"
      },
      "source": [
        "## Model"
      ]
    },
    {
      "cell_type": "code",
      "execution_count": null,
      "metadata": {
        "id": "l6DbEkucTrrs"
      },
      "outputs": [],
      "source": [
        "import torch\n",
        "import torch.nn.functional as F\n",
        "from torch.nn import Parameter\n",
        "from torch_geometric.nn import MessagePassing\n",
        "\n",
        "class RelationalGraphConv(MessagePassing):\n",
        "    def __init__(self, in_channels, out_channels, num_relations, bias=True):\n",
        "        super(RelationalGraphConv, self).__init__(aggr='add')  # \"Add\" aggregation.\n",
        "        self.in_channels = in_channels\n",
        "        self.out_channels = out_channels\n",
        "        self.num_relations = num_relations\n",
        "\n",
        "        # Parameter for weights\n",
        "        self.weight = Parameter(torch.Tensor(num_relations, in_channels, out_channels))\n",
        "        if bias:\n",
        "            self.bias = Parameter(torch.Tensor(out_channels))\n",
        "        else:\n",
        "            self.register_parameter('bias', None)\n",
        "\n",
        "        self.reset_parameters()\n",
        "\n",
        "    def reset_parameters(self):\n",
        "        torch.nn.init.xavier_uniform_(self.weight)\n",
        "        if self.bias is not None:\n",
        "            torch.nn.init.zeros_(self.bias)\n",
        "\n",
        "    def forward(self, x, edge_index, edge_type):\n",
        "        # edge_type is used to select the weights\n",
        "        return self.propagate(edge_index, size=(x.size(0), x.size(0)), x=x, edge_type=edge_type)\n",
        "\n",
        "    def message(self, x_j, edge_type, index, size):\n",
        "        # x_j has shape [E, in_channels]\n",
        "        # edge_type has shape [E]\n",
        "\n",
        "        edge_type_indices = torch.argmax(edge_type, dim=1)  # Convert one-hot to indices\n",
        "        W = self.weight[edge_type_indices]  # Use indices to select weights\n",
        "        # W = self.weight[edge_type]  # Select the corresponding weights\n",
        "        x_j = torch.matmul(x_j.unsqueeze(1), W).squeeze(1)\n",
        "\n",
        "        return x_j\n",
        "\n",
        "    def update(self, aggr_out):\n",
        "        if self.bias is not None:\n",
        "            aggr_out += self.bias\n",
        "        return aggr_out\n"
      ]
    },
    {
      "cell_type": "code",
      "execution_count": null,
      "metadata": {
        "id": "ylu5OgZDRsA5"
      },
      "outputs": [],
      "source": [
        "from torch_geometric.nn import GAE, VGAE, GCNConv\n",
        "\n",
        "class VariationalRGCEncoder(torch.nn.Module):\n",
        "    def __init__(self, input_size, layers, latent_dims, num_relations):\n",
        "        super().__init__()\n",
        "        self.layer0 = RelationalGraphConv(input_size, layers[0], num_relations)\n",
        "        self.layer1 = RelationalGraphConv(layers[0], layers[1], num_relations)\n",
        "        self.layer2 = RelationalGraphConv(layers[1], latent_dims, num_relations)\n",
        "\n",
        "        # Layers to compute mean and log variance of latent distribution\n",
        "        self.mu = nn.Linear(latent_dims, latent_dims)\n",
        "        self.logvar = nn.Linear(latent_dims, latent_dims)\n",
        "\n",
        "    def reparameterize(self, mu, logvar):\n",
        "      std = torch.exp(logvar / 2)\n",
        "      eps = torch.randn_like(std)\n",
        "      return eps.mul(std).add_(mu)\n",
        "\n",
        "    def forward(self, x, edge_index, edge_type):\n",
        "        x = F.relu(self.layer0(x, edge_index, edge_type))\n",
        "        x = F.relu(self.layer1(x, edge_index, edge_type))\n",
        "\n",
        "        # Ensure non-linearity after last graph conv layer\n",
        "        x = F.relu(self.layer2(x, edge_index, edge_type))\n",
        "\n",
        "        # Global average pooling\n",
        "        x = x.mean(dim=0, keepdim=True)\n",
        "\n",
        "        mu = self.mu(x)\n",
        "        logvar = self.logvar(x)\n",
        "        if self.training:\n",
        "            return mu, logvar\n",
        "        else:\n",
        "            return self.reparameterize(mu, logvar)"
      ]
    },
    {
      "cell_type": "code",
      "execution_count": null,
      "metadata": {
        "id": "olDO8wwhSeMM"
      },
      "outputs": [],
      "source": [
        "import torch.nn as nn\n",
        "\n",
        "class GraphDecoder(nn.Module):\n",
        "    def __init__(self, latent_dim, adjacency_shape, feature_shape):\n",
        "        super(GraphDecoder, self).__init__()\n",
        "        self.latent_dim = latent_dim\n",
        "        self.feature_shape = feature_shape\n",
        "        self.adjacency_shape = adjacency_shape\n",
        "\n",
        "        # Define individual dense layers explicitly\n",
        "        self.dense1 = nn.Linear(latent_dim, 128)\n",
        "        self.relu1 = nn.ReLU()\n",
        "        self.dropout1 = nn.Dropout(0.1)\n",
        "\n",
        "        self.dense2 = nn.Linear(128, 256)\n",
        "        self.relu2 = nn.ReLU()\n",
        "        self.dropout2 = nn.Dropout(0.1)\n",
        "\n",
        "        self.dense3 = nn.Linear(256, 512)\n",
        "        self.relu3 = nn.ReLU()\n",
        "        self.dropout3 = nn.Dropout(0.1)\n",
        "\n",
        "        # Final layers for adjacency and feature matrices\n",
        "        self.adjacency_output = nn.Linear(512, torch.prod(torch.tensor(adjacency_shape)).item())\n",
        "        self.feature_output = nn.Linear(512, torch.prod(torch.tensor(feature_shape)).item())\n",
        "\n",
        "    def forward(self, z):\n",
        "\n",
        "        z = z.view(-1, self.latent_dim)\n",
        "        x = self.dropout1(self.relu1(self.dense1(z)))\n",
        "        x = self.dropout2(self.relu2(self.dense2(x)))\n",
        "        x = self.dropout3(self.relu3(self.dense3(x)))\n",
        "\n",
        "        # Adjacency matrix generation\n",
        "        adj = self.adjacency_output(x)\n",
        "        adj = adj.view(-1, *self.adjacency_shape)\n",
        "        adj = (adj + adj.transpose(-1, -2)) / 2  # Symmetrizing adjacency matrix\n",
        "        adj = F.softmax(adj, dim=-1)  # Apply softmax\n",
        "\n",
        "        # Feature matrix generation\n",
        "        features = self.feature_output(x)\n",
        "        features = features.view(-1, *self.feature_shape)\n",
        "        features = F.softmax(features, dim=-1)\n",
        "\n",
        "        return adj, features\n"
      ]
    },
    {
      "cell_type": "code",
      "execution_count": null,
      "metadata": {
        "id": "ZHY5n0VQMpIw"
      },
      "outputs": [],
      "source": [
        "import torch\n",
        "import torch.nn as nn\n",
        "import torch.nn.functional as F\n",
        "from torch_geometric.nn import MessagePassing\n",
        "\n",
        "class VGAEWithPropertyPrediction(nn.Module):\n",
        "    def __init__(self, encoder, decoder, latent_dim):\n",
        "      super(VGAEWithPropertyPrediction, self).__init__()\n",
        "      self.encoder = encoder\n",
        "      self.decoder = decoder\n",
        "      self.property_prediction_layer = nn.Linear(latent_dim, 1)\n",
        "\n",
        "    def reparameterize(self, mu, logvar):\n",
        "      std = torch.exp(logvar / 2)\n",
        "      eps = torch.randn_like(std)\n",
        "      return eps.mul(std).add_(mu)\n",
        "\n",
        "    def forward(self, data):\n",
        "      mu, logvar = self.encoder(data.x, data.edge_index, data.edge_attr)\n",
        "      z = self.reparameterize(mu, logvar)\n",
        "      adj_recon, x_recon = self.decoder(z)\n",
        "      qed_pred = self.property_prediction_layer(z)\n",
        "      return adj_recon, x_recon, qed_pred, mu, logvar, z"
      ]
    },
    {
      "cell_type": "markdown",
      "metadata": {
        "id": "x3lZOXTWNvSN"
      },
      "source": [
        "## Training Functions"
      ]
    },
    {
      "cell_type": "code",
      "execution_count": null,
      "metadata": {
        "id": "6E-9bUgsNqUT"
      },
      "outputs": [],
      "source": [
        "from torch_geometric.data import Data\n",
        "\n",
        "def calculate_loss(pred_adj, true_adj, qed_pred, qed_true, mu, logvar):\n",
        "    # Reconstruction Loss\n",
        "    adj_loss = F.binary_cross_entropy(pred_adj, true_adj)\n",
        "\n",
        "    # Property Prediction Loss\n",
        "    qed_loss = F.mse_loss(qed_pred.view(-1), qed_true.view(-1))\n",
        "\n",
        "    # KL Divergence Loss\n",
        "    kl_loss = -0.5 * torch.mean(torch.sum(1 + logvar - mu.pow(2) - logvar.exp(), dim=1))\n",
        "\n",
        "    return adj_loss + qed_loss + kl_loss\n"
      ]
    },
    {
      "cell_type": "code",
      "execution_count": null,
      "metadata": {
        "id": "NJ8WUV9TNk0C"
      },
      "outputs": [],
      "source": [
        "# def compute_gradient_penalty(model, real_adj, gen_adj, real_feat, gen_feat, device='cuda'):\n",
        "# \tbatch_size = real_adj.size(0)\n",
        "\n",
        "# \t# Generate random alpha for interpolation\n",
        "# \talpha = torch.rand(batch_size, 1, 1, device=device)\n",
        "# \talpha = alpha.expand_as(real_adj)\n",
        "\n",
        "# \t# Interpolate adjacency matrices\n",
        "# \tinterpolated_adj = alpha * real_adj + (1 - alpha) * gen_adj\n",
        "# \tinterpolated_adj.requires_grad_(True)\n",
        "\n",
        "# \t# Interpolate feature matrices\n",
        "# \talpha_feat = torch.rand(batch_size, 1, 1, device=device)\n",
        "# \t# alpha_feat = alpha_feat.expand_as(real_feat)\n",
        "# \tinterpolated_feat = alpha_feat * real_feat + (1 - alpha_feat) * gen_feat\n",
        "# \tinterpolated_feat.requires_grad_(True)\n",
        "\n",
        "# \t# Forward pass through the model with interpolated inputs\n",
        "# \t_, interpolated_pred, _, _ = model(interpolated_feat, interpolated_adj)\n",
        "\n",
        "# \t# Compute gradients with respect to interpolated outputs\n",
        "# \tgradients_adj = torch.autograd.grad(outputs=interpolated_pred, inputs=interpolated_adj,\n",
        "#                                     \tgrad_outputs=torch.ones_like(interpolated_pred),\n",
        "#                                     \tcreate_graph=True, retain_graph=True, only_inputs=True)[0]\n",
        "\n",
        "# \tgradients_feat = torch.autograd.grad(outputs=interpolated_pred, inputs=interpolated_feat,\n",
        "#                                      \tgrad_outputs=torch.ones_like(interpolated_pred),\n",
        "#                                      \tcreate_graph=True, retain_graph=True, only_inputs=True)[0]\n",
        "\n",
        "# \t# Calculate the gradient penalty for both adjacency and features\n",
        "# \tgradients_adj_norm = torch.sqrt(torch.sum(gradients_adj ** 2, dim=(1, 2, 3)) + 1e-12)\n",
        "# \tgradients_feat_norm = torch.sqrt(torch.sum(gradients_feat ** 2, dim=(1, 2, 3)) + 1e-12)\n",
        "\n",
        "# \tgradient_penalty = torch.mean((gradients_adj_norm - 1) ** 2) + torch.mean((gradients_feat_norm - 1) ** 2)\n",
        "# \treturn gradient_penalty\n",
        "\n"
      ]
    },
    {
      "cell_type": "code",
      "execution_count": null,
      "metadata": {
        "id": "k33b7U2GndEZ"
      },
      "outputs": [],
      "source": [
        "def create_adjacency_matrix(edge_index, edge_attr, num_nodes):\n",
        "    # edge_index: [2, num_edges] tensor indicating the connections\n",
        "    # edge_attr: [num_edges, num_edge_types] tensor indicating edge type\n",
        "    # num_nodes: int, the number of nodes in the graph\n",
        "\n",
        "    num_edge_types = edge_attr.size(1)\n",
        "    adj = torch.zeros(num_edge_types, num_nodes, num_nodes,\n",
        "                      dtype=edge_attr.dtype, device=edge_index.device)\n",
        "\n",
        "    # For each edge and its corresponding type\n",
        "    for i, (source, target) in enumerate(edge_index.t()):\n",
        "        edge_types = edge_attr[i]  # One-hot vector of edge types\n",
        "        for edge_type, presence in enumerate(edge_types):\n",
        "            if presence:  # If this type of edge exists\n",
        "                adj[edge_type, source, target] += 1  # Increment adjacency mat\n",
        "\n",
        "    return adj\n"
      ]
    },
    {
      "cell_type": "code",
      "execution_count": null,
      "metadata": {
        "id": "ndhqUCsNNZ6B"
      },
      "outputs": [],
      "source": [
        "from torch_geometric.utils import to_dense_adj\n",
        "\n",
        "def train(model, optimizer, data, test=False):\n",
        "  model.train()\n",
        "  optimizer.zero_grad()\n",
        "\n",
        "  pred_adj, pred_feat, pred_qed, mu, logvar, _ = model(data)\n",
        "\n",
        "  real_adj = create_adjacency_matrix(data.edge_index, data.edge_attr, num_nodes=NUM_ATOMS)\n",
        "  real_x = data.x\n",
        "  real_qed = data.qed\n",
        "\n",
        "\t# Compute losses\n",
        "  loss = calculate_loss(pred_adj[0], real_adj, pred_qed, real_qed, mu, logvar)\n",
        "\n",
        "\t# Compute gradient penalty\n",
        "  # penalty = compute_gradient_penalty(model, real_adj, pred_adj, real_x, pred_feat)\n",
        "\n",
        "  total_loss = loss #+ penalty\n",
        "  if not test:\n",
        "    total_loss.backward()\n",
        "    optimizer.step()\n",
        "  return total_loss.item()\n"
      ]
    },
    {
      "cell_type": "code",
      "execution_count": null,
      "metadata": {
        "id": "5VmbWLcKQNkT"
      },
      "outputs": [],
      "source": [
        "device = 'cuda'\n",
        "device = torch.device('cuda' if torch.cuda.is_available() else 'cpu')"
      ]
    },
    {
      "cell_type": "code",
      "execution_count": null,
      "metadata": {
        "id": "b1vXjcOuOq65"
      },
      "outputs": [],
      "source": [
        "SMILES_list = '[\"C\", \"B\", \"F\", \"I\", \"H\", \"O\", \"N\", \"S\", \"P\", \"Cl\", \"Br\"]'"
      ]
    },
    {
      "cell_type": "code",
      "execution_count": null,
      "metadata": {
        "colab": {
          "base_uri": "https://localhost:8080/",
          "height": 390
        },
        "id": "yBcHxUG9RsEe",
        "outputId": "0b021c88-a34f-4789-d12d-0506dbe8216b"
      },
      "outputs": [
        {
          "ename": "OutOfMemoryError",
          "evalue": "CUDA out of memory. Tried to allocate 114.00 MiB. GPU ",
          "output_type": "error",
          "traceback": [
            "\u001b[0;31m---------------------------------------------------------------------------\u001b[0m",
            "\u001b[0;31mOutOfMemoryError\u001b[0m                          Traceback (most recent call last)",
            "\u001b[0;32m<ipython-input-88-f3bfe785acc6>\u001b[0m in \u001b[0;36m<cell line: 23>\u001b[0;34m()\u001b[0m\n\u001b[1;32m     21\u001b[0m \u001b[0mdecoder\u001b[0m \u001b[0;34m=\u001b[0m \u001b[0mGraphDecoder\u001b[0m\u001b[0;34m(\u001b[0m\u001b[0mlatent_dim\u001b[0m\u001b[0;34m,\u001b[0m \u001b[0madjacency_shape\u001b[0m\u001b[0;34m,\u001b[0m \u001b[0mfeature_shape\u001b[0m\u001b[0;34m)\u001b[0m\u001b[0;34m\u001b[0m\u001b[0;34m\u001b[0m\u001b[0m\n\u001b[1;32m     22\u001b[0m \u001b[0mmodel\u001b[0m \u001b[0;34m=\u001b[0m \u001b[0mVGAEWithPropertyPrediction\u001b[0m\u001b[0;34m(\u001b[0m\u001b[0mencoder\u001b[0m\u001b[0;34m,\u001b[0m\u001b[0mdecoder\u001b[0m\u001b[0;34m,\u001b[0m\u001b[0mlatent_dim\u001b[0m\u001b[0;34m)\u001b[0m\u001b[0;34m\u001b[0m\u001b[0;34m\u001b[0m\u001b[0m\n\u001b[0;32m---> 23\u001b[0;31m \u001b[0mmodel\u001b[0m \u001b[0;34m=\u001b[0m \u001b[0mmodel\u001b[0m\u001b[0;34m.\u001b[0m\u001b[0mto\u001b[0m\u001b[0;34m(\u001b[0m\u001b[0mdevice\u001b[0m\u001b[0;34m)\u001b[0m\u001b[0;34m\u001b[0m\u001b[0;34m\u001b[0m\u001b[0m\n\u001b[0m\u001b[1;32m     24\u001b[0m \u001b[0;34m\u001b[0m\u001b[0m\n\u001b[1;32m     25\u001b[0m \u001b[0moptimizer\u001b[0m \u001b[0;34m=\u001b[0m \u001b[0mtorch\u001b[0m\u001b[0;34m.\u001b[0m\u001b[0moptim\u001b[0m\u001b[0;34m.\u001b[0m\u001b[0mAdam\u001b[0m\u001b[0;34m(\u001b[0m\u001b[0mmodel\u001b[0m\u001b[0;34m.\u001b[0m\u001b[0mparameters\u001b[0m\u001b[0;34m(\u001b[0m\u001b[0;34m)\u001b[0m\u001b[0;34m,\u001b[0m \u001b[0mlr\u001b[0m\u001b[0;34m=\u001b[0m\u001b[0mlr\u001b[0m\u001b[0;34m)\u001b[0m\u001b[0;34m\u001b[0m\u001b[0;34m\u001b[0m\u001b[0m\n",
            "\u001b[0;32m/usr/local/lib/python3.10/dist-packages/torch/nn/modules/module.py\u001b[0m in \u001b[0;36mto\u001b[0;34m(self, *args, **kwargs)\u001b[0m\n\u001b[1;32m   1171\u001b[0m                     \u001b[0;32mraise\u001b[0m\u001b[0;34m\u001b[0m\u001b[0;34m\u001b[0m\u001b[0m\n\u001b[1;32m   1172\u001b[0m \u001b[0;34m\u001b[0m\u001b[0m\n\u001b[0;32m-> 1173\u001b[0;31m         \u001b[0;32mreturn\u001b[0m \u001b[0mself\u001b[0m\u001b[0;34m.\u001b[0m\u001b[0m_apply\u001b[0m\u001b[0;34m(\u001b[0m\u001b[0mconvert\u001b[0m\u001b[0;34m)\u001b[0m\u001b[0;34m\u001b[0m\u001b[0;34m\u001b[0m\u001b[0m\n\u001b[0m\u001b[1;32m   1174\u001b[0m \u001b[0;34m\u001b[0m\u001b[0m\n\u001b[1;32m   1175\u001b[0m     def register_full_backward_pre_hook(\n",
            "\u001b[0;32m/usr/local/lib/python3.10/dist-packages/torch/nn/modules/module.py\u001b[0m in \u001b[0;36m_apply\u001b[0;34m(self, fn, recurse)\u001b[0m\n\u001b[1;32m    777\u001b[0m         \u001b[0;32mif\u001b[0m \u001b[0mrecurse\u001b[0m\u001b[0;34m:\u001b[0m\u001b[0;34m\u001b[0m\u001b[0;34m\u001b[0m\u001b[0m\n\u001b[1;32m    778\u001b[0m             \u001b[0;32mfor\u001b[0m \u001b[0mmodule\u001b[0m \u001b[0;32min\u001b[0m \u001b[0mself\u001b[0m\u001b[0;34m.\u001b[0m\u001b[0mchildren\u001b[0m\u001b[0;34m(\u001b[0m\u001b[0;34m)\u001b[0m\u001b[0;34m:\u001b[0m\u001b[0;34m\u001b[0m\u001b[0;34m\u001b[0m\u001b[0m\n\u001b[0;32m--> 779\u001b[0;31m                 \u001b[0mmodule\u001b[0m\u001b[0;34m.\u001b[0m\u001b[0m_apply\u001b[0m\u001b[0;34m(\u001b[0m\u001b[0mfn\u001b[0m\u001b[0;34m)\u001b[0m\u001b[0;34m\u001b[0m\u001b[0;34m\u001b[0m\u001b[0m\n\u001b[0m\u001b[1;32m    780\u001b[0m \u001b[0;34m\u001b[0m\u001b[0m\n\u001b[1;32m    781\u001b[0m         \u001b[0;32mdef\u001b[0m \u001b[0mcompute_should_use_set_data\u001b[0m\u001b[0;34m(\u001b[0m\u001b[0mtensor\u001b[0m\u001b[0;34m,\u001b[0m \u001b[0mtensor_applied\u001b[0m\u001b[0;34m)\u001b[0m\u001b[0;34m:\u001b[0m\u001b[0;34m\u001b[0m\u001b[0;34m\u001b[0m\u001b[0m\n",
            "\u001b[0;32m/usr/local/lib/python3.10/dist-packages/torch/nn/modules/module.py\u001b[0m in \u001b[0;36m_apply\u001b[0;34m(self, fn, recurse)\u001b[0m\n\u001b[1;32m    777\u001b[0m         \u001b[0;32mif\u001b[0m \u001b[0mrecurse\u001b[0m\u001b[0;34m:\u001b[0m\u001b[0;34m\u001b[0m\u001b[0;34m\u001b[0m\u001b[0m\n\u001b[1;32m    778\u001b[0m             \u001b[0;32mfor\u001b[0m \u001b[0mmodule\u001b[0m \u001b[0;32min\u001b[0m \u001b[0mself\u001b[0m\u001b[0;34m.\u001b[0m\u001b[0mchildren\u001b[0m\u001b[0;34m(\u001b[0m\u001b[0;34m)\u001b[0m\u001b[0;34m:\u001b[0m\u001b[0;34m\u001b[0m\u001b[0;34m\u001b[0m\u001b[0m\n\u001b[0;32m--> 779\u001b[0;31m                 \u001b[0mmodule\u001b[0m\u001b[0;34m.\u001b[0m\u001b[0m_apply\u001b[0m\u001b[0;34m(\u001b[0m\u001b[0mfn\u001b[0m\u001b[0;34m)\u001b[0m\u001b[0;34m\u001b[0m\u001b[0;34m\u001b[0m\u001b[0m\n\u001b[0m\u001b[1;32m    780\u001b[0m \u001b[0;34m\u001b[0m\u001b[0m\n\u001b[1;32m    781\u001b[0m         \u001b[0;32mdef\u001b[0m \u001b[0mcompute_should_use_set_data\u001b[0m\u001b[0;34m(\u001b[0m\u001b[0mtensor\u001b[0m\u001b[0;34m,\u001b[0m \u001b[0mtensor_applied\u001b[0m\u001b[0;34m)\u001b[0m\u001b[0;34m:\u001b[0m\u001b[0;34m\u001b[0m\u001b[0;34m\u001b[0m\u001b[0m\n",
            "\u001b[0;32m/usr/local/lib/python3.10/dist-packages/torch/nn/modules/module.py\u001b[0m in \u001b[0;36m_apply\u001b[0;34m(self, fn, recurse)\u001b[0m\n\u001b[1;32m    802\u001b[0m             \u001b[0;31m# `with torch.no_grad():`\u001b[0m\u001b[0;34m\u001b[0m\u001b[0;34m\u001b[0m\u001b[0m\n\u001b[1;32m    803\u001b[0m             \u001b[0;32mwith\u001b[0m \u001b[0mtorch\u001b[0m\u001b[0;34m.\u001b[0m\u001b[0mno_grad\u001b[0m\u001b[0;34m(\u001b[0m\u001b[0;34m)\u001b[0m\u001b[0;34m:\u001b[0m\u001b[0;34m\u001b[0m\u001b[0;34m\u001b[0m\u001b[0m\n\u001b[0;32m--> 804\u001b[0;31m                 \u001b[0mparam_applied\u001b[0m \u001b[0;34m=\u001b[0m \u001b[0mfn\u001b[0m\u001b[0;34m(\u001b[0m\u001b[0mparam\u001b[0m\u001b[0;34m)\u001b[0m\u001b[0;34m\u001b[0m\u001b[0;34m\u001b[0m\u001b[0m\n\u001b[0m\u001b[1;32m    805\u001b[0m             \u001b[0mp_should_use_set_data\u001b[0m \u001b[0;34m=\u001b[0m \u001b[0mcompute_should_use_set_data\u001b[0m\u001b[0;34m(\u001b[0m\u001b[0mparam\u001b[0m\u001b[0;34m,\u001b[0m \u001b[0mparam_applied\u001b[0m\u001b[0;34m)\u001b[0m\u001b[0;34m\u001b[0m\u001b[0;34m\u001b[0m\u001b[0m\n\u001b[1;32m    806\u001b[0m \u001b[0;34m\u001b[0m\u001b[0m\n",
            "\u001b[0;32m/usr/local/lib/python3.10/dist-packages/torch/nn/modules/module.py\u001b[0m in \u001b[0;36mconvert\u001b[0;34m(t)\u001b[0m\n\u001b[1;32m   1157\u001b[0m                         \u001b[0mmemory_format\u001b[0m\u001b[0;34m=\u001b[0m\u001b[0mconvert_to_format\u001b[0m\u001b[0;34m,\u001b[0m\u001b[0;34m\u001b[0m\u001b[0;34m\u001b[0m\u001b[0m\n\u001b[1;32m   1158\u001b[0m                     )\n\u001b[0;32m-> 1159\u001b[0;31m                 return t.to(\n\u001b[0m\u001b[1;32m   1160\u001b[0m                     \u001b[0mdevice\u001b[0m\u001b[0;34m,\u001b[0m\u001b[0;34m\u001b[0m\u001b[0;34m\u001b[0m\u001b[0m\n\u001b[1;32m   1161\u001b[0m                     \u001b[0mdtype\u001b[0m \u001b[0;32mif\u001b[0m \u001b[0mt\u001b[0m\u001b[0;34m.\u001b[0m\u001b[0mis_floating_point\u001b[0m\u001b[0;34m(\u001b[0m\u001b[0;34m)\u001b[0m \u001b[0;32mor\u001b[0m \u001b[0mt\u001b[0m\u001b[0;34m.\u001b[0m\u001b[0mis_complex\u001b[0m\u001b[0;34m(\u001b[0m\u001b[0;34m)\u001b[0m \u001b[0;32melse\u001b[0m \u001b[0;32mNone\u001b[0m\u001b[0;34m,\u001b[0m\u001b[0;34m\u001b[0m\u001b[0;34m\u001b[0m\u001b[0m\n",
            "\u001b[0;31mOutOfMemoryError\u001b[0m: CUDA out of memory. Tried to allocate 114.00 MiB. GPU "
          ]
        }
      ],
      "source": [
        "from torch.utils.data import random_split\n",
        "from torch_geometric.loader import DataLoader\n",
        "\n",
        "batch_size = 1\n",
        "epochs = 100\n",
        "\n",
        "lr = 5e-4\n",
        "N_atoms = 120  # Maximum number of atoms\n",
        "num_features = 1\n",
        "num_relations = 4   # Number of bond types\n",
        "latent_dim = 435  # Size of the latent space\n",
        "\n",
        "atom_dim = len(SMILES_list)  # Number of atom types\n",
        "adjacency_shape=(num_relations, N_atoms, N_atoms)\n",
        "feature_shape=(N_atoms, num_features)\n",
        "layers = [512, 512, 512]\n",
        "\n",
        "encoder = VariationalRGCEncoder(num_features, layers, latent_dim, num_relations)\n",
        "decoder = GraphDecoder(latent_dim, adjacency_shape, feature_shape)\n",
        "model = VGAEWithPropertyPrediction(encoder,decoder,latent_dim)\n",
        "model = model.to(device)\n",
        "\n",
        "optimizer = torch.optim.Adam(model.parameters(), lr=lr)\n",
        "\n",
        "# Split the dataset into training, validation, and test sets\n",
        "train_size = int(0.7 * len(dataset))\n",
        "val_size = int(0.15 * len(dataset))\n",
        "test_size = len(dataset) - train_size - val_size\n",
        "train_dataset, val_dataset, test_dataset = random_split(dataset, [train_size, val_size, test_size])\n",
        "\n",
        "# Create DataLoaders\n",
        "train_loader = DataLoader(train_dataset, batch_size=batch_size, shuffle=True)\n",
        "val_loader = DataLoader(val_dataset, batch_size=batch_size, shuffle=False)\n",
        "test_loader = DataLoader(test_dataset, batch_size=batch_size, shuffle=False)\n"
      ]
    },
    {
      "cell_type": "code",
      "execution_count": null,
      "metadata": {
        "colab": {
          "background_save": true
        },
        "id": "vqoJ3sVeRsWL"
      },
      "outputs": [],
      "source": [
        "from tqdm.notebook import tqdm\n",
        "\n",
        "def train_model(optimizer, model, train_loader, val_loader, epochs,\n",
        "                batch_size=1, patience=10):\n",
        "    loss_values = []\n",
        "    val_loss_values = []\n",
        "    best_val_loss = float('inf')\n",
        "    early_stopping_counter = 0\n",
        "\n",
        "    for epoch in tqdm(range(epochs), desc='Epochs'):\n",
        "        epoch_loss = 0\n",
        "        for batch in tqdm(train_loader, desc='Batches', leave=False):\n",
        "            batch_loss = train(model, optimizer, batch.to(device))\n",
        "            epoch_loss += batch_loss\n",
        "        avg_epoch_loss = epoch_loss / len(train_loader)\n",
        "        loss_values.append(avg_epoch_loss)\n",
        "\n",
        "        # Validation step\n",
        "        val_loss = 0\n",
        "        for val_batch in val_loader:\n",
        "            val_batch_loss = train(model, optimizer, batch.to(device), test=True)\n",
        "            val_loss += val_batch_loss\n",
        "        avg_val_loss = val_loss / len(val_loader)\n",
        "        val_loss_values.append(avg_val_loss)\n",
        "\n",
        "        print(f\"Epoch {epoch+1}/{epochs}, Loss: {avg_epoch_loss}, Val Loss: {avg_val_loss}\")\n",
        "\n",
        "        # Early stopping\n",
        "        if avg_val_loss < best_val_loss:\n",
        "            best_val_loss = avg_val_loss\n",
        "            early_stopping_counter = 0\n",
        "        else:\n",
        "            early_stopping_counter += 1\n",
        "            if early_stopping_counter >= patience:\n",
        "                print(\"Early stopping triggered\")\n",
        "                break\n",
        "\n",
        "    return loss_values, val_loss_values\n"
      ]
    },
    {
      "cell_type": "code",
      "execution_count": null,
      "metadata": {
        "colab": {
          "background_save": true
        },
        "id": "QEDqJj2fnFb4"
      },
      "outputs": [],
      "source": [
        "train_loss_values, val_loss_values = train_model(optimizer,\n",
        "                                                 model,\n",
        "                                                 train_loader,\n",
        "                                                 val_loader,\n",
        "                                                 epochs=epochs)"
      ]
    },
    {
      "cell_type": "code",
      "execution_count": null,
      "metadata": {
        "colab": {
          "background_save": true
        },
        "id": "nyYUjogcTWq9"
      },
      "outputs": [],
      "source": [
        "model.train()\n",
        "pred_adj, pred_x, pred_qed, mu, logvar, _ = model(dataset[10].to(device))\n",
        "pred_x"
      ]
    },
    {
      "cell_type": "code",
      "execution_count": null,
      "metadata": {
        "colab": {
          "background_save": true
        },
        "id": "iSn7URDXMyGE"
      },
      "outputs": [],
      "source": [
        "# Plotting the loss\n",
        "plt.plot(range(1, len(train_loss_values) + 1), train_loss_values, marker='o', label='Training Loss')\n",
        "plt.plot(range(1, len(val_loss_values) + 1), val_loss_values, marker='o', label='Validation Loss')\n",
        "plt.xlabel('Epoch')\n",
        "plt.ylabel('Loss')\n",
        "plt.title('Training and Validation Loss Over Epochs')\n",
        "plt.legend()\n",
        "plt.grid()\n",
        "plt.show()"
      ]
    },
    {
      "cell_type": "code",
      "execution_count": null,
      "metadata": {
        "colab": {
          "background_save": true
        },
        "id": "9lvtSquV8XeJ"
      },
      "outputs": [],
      "source": [
        "import ast\n",
        "\n",
        "bond_mapping = {0: Chem.rdchem.BondType.SINGLE,\n",
        "                1: Chem.rdchem.BondType.DOUBLE,\n",
        "                2: Chem.rdchem.BondType.TRIPLE,\n",
        "                3: Chem.rdchem.BondType.AROMATIC}\n",
        "\n",
        "SMILE_CHARSET = '[\"C\", \"B\", \"F\", \"I\", \"H\", \"O\", \"N\", \"S\", \"P\", \"Cl\", \"Br\"]'\n",
        "SMILE_CHARSET = ast.literal_eval(SMILE_CHARSET)\n",
        "\n",
        "MAX_MOLSIZE = max(df[\"smiles\"].str.len())\n",
        "SMILE_to_index = dict((c, i) for i, c in enumerate(SMILE_CHARSET))\n",
        "index_to_SMILE = dict((i, c) for i, c in enumerate(SMILE_CHARSET))\n",
        "atom_mapping = dict(SMILE_to_index)\n",
        "atom_mapping.update(index_to_SMILE)"
      ]
    },
    {
      "cell_type": "code",
      "execution_count": null,
      "metadata": {
        "colab": {
          "background_save": true
        },
        "id": "eiYkUfPN8YEB"
      },
      "outputs": [],
      "source": [
        "def inference_graph_to_molecule(adjacency, features,\n",
        "                      atom_dim=120,\n",
        "                      bond_dim=4):\n",
        "    # Initialize a writable molecule\n",
        "    molecule = Chem.RWMol()\n",
        "\n",
        "    # Remove \"no atoms\" & atoms with no bonds\n",
        "    keep_idx = np.where(\n",
        "        (np.argmax(features, axis=1) != atom_dim - 1)\n",
        "        & (np.sum(adjacency[:-1], axis=(0, 1)) != 0)\n",
        "    )[0]\n",
        "    features = features[keep_idx]\n",
        "    adjacency = adjacency[:, keep_idx, :][:, :, keep_idx]\n",
        "    # Add atoms to molecule\n",
        "    for atom_type_idx in np.argmax(features, axis=1):\n",
        "        atom = Chem.Atom(atom_mapping[atom_type_idx])\n",
        "        _ = molecule.AddAtom(atom)\n",
        "\n",
        "    # Add bonds between atoms in molecule; based on the upper triangles\n",
        "    # of the [symmetric] adjacency tensor\n",
        "    (bonds_ij, atoms_i, atoms_j) = np.where(np.triu(adjacency) == 1)\n",
        "    for (bond_ij, atom_i, atom_j) in zip(bonds_ij, atoms_i, atoms_j):\n",
        "        if atom_i == atom_j or bond_ij == bond_dim - 1:\n",
        "            continue\n",
        "        bond_type = bond_mapping[bond_ij]\n",
        "        molecule.AddBond(int(atom_i), int(atom_j), bond_type)\n",
        "\n",
        "    # Sanitize the molecule\n",
        "    flag = Chem.SanitizeMol(molecule, catchErrors=True)\n",
        "    if flag != Chem.SanitizeFlags.SANITIZE_NONE:\n",
        "        return None  # Return None if sanitization fails\n",
        "\n",
        "    return molecule"
      ]
    },
    {
      "cell_type": "code",
      "execution_count": null,
      "metadata": {
        "colab": {
          "background_save": true
        },
        "id": "al2xfGuO6fQk"
      },
      "outputs": [],
      "source": [
        "z_mean = []\n",
        "for test_data in test_loader:\n",
        "  data = test_data.to(device)\n",
        "  z_tmp, _ = model.encoder(data.x, data.edge_index, data.edge_attr)\n",
        "  qed = test_data.qed\n",
        "  z_mean.append([z_tmp[:2].to('cpu'), qed])\n"
      ]
    },
    {
      "cell_type": "code",
      "execution_count": null,
      "metadata": {
        "colab": {
          "background_save": true
        },
        "id": "uyd2u0-jaaOo"
      },
      "outputs": [],
      "source": [
        "z_0, z_1, qed = [],[],[]\n",
        "for z in z_mean:\n",
        "  z_0.append(z[0][0][0].detach().numpy())\n",
        "  z_1.append(z[0][0][1].detach().numpy())\n",
        "  qed.append(z[1][0].cpu().detach().numpy())"
      ]
    },
    {
      "cell_type": "code",
      "execution_count": null,
      "metadata": {
        "colab": {
          "background_save": true
        },
        "id": "s_wrMOvuZUXM"
      },
      "outputs": [],
      "source": [
        "# Display a 2D plot of the property in the latent space\n",
        "plt.figure(figsize=(12, 10))\n",
        "plt.scatter(z_0, z_1, c=qed)\n",
        "plt.colorbar()\n",
        "plt.xlabel(\"z[0]\")\n",
        "plt.ylabel(\"z[1]\")\n",
        "plt.show()\n"
      ]
    },
    {
      "cell_type": "code",
      "execution_count": null,
      "metadata": {
        "colab": {
          "background_save": true
        },
        "id": "G5y5Dm32asmE"
      },
      "outputs": [],
      "source": []
    }
  ],
  "metadata": {
    "accelerator": "GPU",
    "colab": {
      "gpuType": "T4",
      "provenance": []
    },
    "kernelspec": {
      "display_name": "Python 3",
      "name": "python3"
    },
    "language_info": {
      "name": "python"
    }
  },
  "nbformat": 4,
  "nbformat_minor": 0
}